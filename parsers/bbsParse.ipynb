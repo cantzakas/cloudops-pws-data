{
 "cells": [
  {
   "cell_type": "markdown",
   "metadata": {},
   "source": [
    "```\n",
    "<14>2017-05-08T00:00:57.529441+00:00 10.10.114.31 vcap.bbs [job=database_z1 index=0]  \n",
    "{\n",
    "\t\"timestamp\": \"1494201657.529333353\",\n",
    "\t\"source\": \"bbs\",\n",
    "\t\"message\": \"bbs.request.start-actual-lrp.starting\",\n",
    "\t\"log_level\": 1,\n",
    "\t\"data\": {\n",
    "\t\t\"actual_lrp_instance_key\": {\n",
    "\t\t\t\"instance_guid\": \"13e4d126-3ece-45c8-5794-7048\",\n",
    "\t\t\t\"cell_id\": \"cc602409-b055-4d98-913d-634b3aec385f\"\n",
    "\t\t},\n",
    "\t\t\"actual_lrp_key\": {\n",
    "\t\t\t\"process_guid\": \"e9397dfa-28d8-4a13-bb1c-9a38dae4ed14-f23b3d6a-cbe6-4112-877e-0af497f9de6b\",\n",
    "\t\t\t\"index\": 0,\n",
    "\t\t\t\"domain\": \"cf-apps\"\n",
    "\t\t},\n",
    "\t\t\"method\": \"POST\",\n",
    "\t\t\"net_info\": {\n",
    "\t\t\t\"address\": \"10.10.148.84\",\n",
    "\t\t\t\"ports\": [{\n",
    "\t\t\t\t\"container_port\": 8080,\n",
    "\t\t\t\t\"host_port\": 61079\n",
    "\t\t\t}, {\n",
    "\t\t\t\t\"container_port\": 2222,\n",
    "\t\t\t\t\"host_port\": 61080\n",
    "\t\t\t}]\n",
    "\t\t},\n",
    "\t\t\"request\": \"/v1/actual_lrps/start\",\n",
    "\t\t\"session\": \"171832706.1\"\n",
    "\t}\n",
    "}\n",
    "```"
   ]
  },
  {
   "cell_type": "code",
   "execution_count": 1,
   "metadata": {
    "collapsed": true
   },
   "outputs": [],
   "source": [
    "import re\n",
    "\n",
    "bbs1 = \"\"\"\\\n",
    "<14>2017-05-08T00:00:57.529441+00:00 10.10.114.31 vcap.bbs [job=database_z1 index=0]  {\"timestamp\":\"1494201657.529333353\",\"source\":\"bbs\",\"message\":\"bbs.request.start-actual-lrp.starting\",\"log_level\":1,\"data\":{\"actual_lrp_instance_key\":{\"instance_guid\":\"13e4d126-3ece-45c8-5794-7048\",\"cell_id\":\"cc602409-b055-4d98-913d-634b3aec385f\"},\"actual_lrp_key\":{\"process_guid\":\"e9397dfa-28d8-4a13-bb1c-9a38dae4ed14-f23b3d6a-cbe6-4112-877e-0af497f9de6b\",\"index\":0,\"domain\":\"cf-apps\"},\"method\":\"POST\",\"net_info\":{\"address\":\"10.10.148.84\",\"ports\":[{\"container_port\":8080,\"host_port\":61079},{\"container_port\":2222,\"host_port\":61080}]},\"request\":\"/v1/actual_lrps/start\",\"session\":\"171832706.1\"}}\"\"\"\n",
    "\n",
    "lgBasePattern = '\\<(\\d+)\\>([^ ]+) ([^ ]+) ([^ ]+) \\[([^\\]]+)+\\]' \n",
    "lgExtended = '{\"timestamp\":\"?([\\d.]+)\"?\\,\"source\":\"([^\"]+)\"\\,\"message\":\"([^\"]+)\"\\,\"log_level\":\"?([^\"]+)\"?\\,'\n",
    "repKeyValue = '\"data\":(.*)}'\n",
    "\n",
    "\n",
    "pat = lgBasePattern + \"  \" + lgExtended + repKeyValue"
   ]
  },
  {
   "cell_type": "code",
   "execution_count": 2,
   "metadata": {
    "collapsed": false
   },
   "outputs": [
    {
     "data": {
      "text/plain": [
       "('14',\n",
       " '2017-05-08T00:00:57.529441+00:00',\n",
       " '10.10.114.31',\n",
       " 'vcap.bbs',\n",
       " 'job=database_z1 index=0',\n",
       " '1494201657.529333353',\n",
       " 'bbs',\n",
       " 'bbs.request.start-actual-lrp.starting',\n",
       " '1',\n",
       " '{\"actual_lrp_instance_key\":{\"instance_guid\":\"13e4d126-3ece-45c8-5794-7048\",\"cell_id\":\"cc602409-b055-4d98-913d-634b3aec385f\"},\"actual_lrp_key\":{\"process_guid\":\"e9397dfa-28d8-4a13-bb1c-9a38dae4ed14-f23b3d6a-cbe6-4112-877e-0af497f9de6b\",\"index\":0,\"domain\":\"cf-apps\"},\"method\":\"POST\",\"net_info\":{\"address\":\"10.10.148.84\",\"ports\":[{\"container_port\":8080,\"host_port\":61079},{\"container_port\":2222,\"host_port\":61080}]},\"request\":\"/v1/actual_lrps/start\",\"session\":\"171832706.1\"}')"
      ]
     },
     "execution_count": 2,
     "metadata": {},
     "output_type": "execute_result"
    }
   ],
   "source": [
    "m = re.compile(pat)\n",
    "m.match(bbs1).groups()"
   ]
  },
  {
   "cell_type": "code",
   "execution_count": 3,
   "metadata": {
    "collapsed": true
   },
   "outputs": [],
   "source": [
    "from ast import literal_eval\n"
   ]
  },
  {
   "cell_type": "code",
   "execution_count": 4,
   "metadata": {
    "collapsed": false
   },
   "outputs": [
    {
     "data": {
      "text/plain": [
       "{'actual_lrp_instance_key': {'cell_id': 'cc602409-b055-4d98-913d-634b3aec385f',\n",
       "  'instance_guid': '13e4d126-3ece-45c8-5794-7048'},\n",
       " 'actual_lrp_key': {'domain': 'cf-apps',\n",
       "  'index': 0,\n",
       "  'process_guid': 'e9397dfa-28d8-4a13-bb1c-9a38dae4ed14-f23b3d6a-cbe6-4112-877e-0af497f9de6b'},\n",
       " 'method': 'POST',\n",
       " 'net_info': {'address': '10.10.148.84',\n",
       "  'ports': [{'container_port': 8080, 'host_port': 61079},\n",
       "   {'container_port': 2222, 'host_port': 61080}]},\n",
       " 'request': '/v1/actual_lrps/start',\n",
       " 'session': '171832706.1'}"
      ]
     },
     "execution_count": 4,
     "metadata": {},
     "output_type": "execute_result"
    }
   ],
   "source": [
    "literal_eval(m.match(bbs1).groups()[-1])"
   ]
  },
  {
   "cell_type": "code",
   "execution_count": null,
   "metadata": {
    "collapsed": true
   },
   "outputs": [],
   "source": []
  }
 ],
 "metadata": {
  "kernelspec": {
   "display_name": "Python [Root]",
   "language": "python",
   "name": "Python [Root]"
  },
  "language_info": {
   "codemirror_mode": {
    "name": "ipython",
    "version": 3
   },
   "file_extension": ".py",
   "mimetype": "text/x-python",
   "name": "python",
   "nbconvert_exporter": "python",
   "pygments_lexer": "ipython3",
   "version": "3.6.0"
  }
 },
 "nbformat": 4,
 "nbformat_minor": 2
}
