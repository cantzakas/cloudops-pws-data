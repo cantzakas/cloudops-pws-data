{
 "cells": [
  {
   "cell_type": "code",
   "execution_count": 1,
   "metadata": {
    "collapsed": true
   },
   "outputs": [],
   "source": [
    "import re"
   ]
  },
  {
   "cell_type": "markdown",
   "metadata": {},
   "source": [
    "```\n",
    "<15>2017-05-04T09:44:54.004074+00:00 10.10.81.56 vcap.cloud_controller_ng [job=donotuseapi_z2 index=3]\n",
    "{\n",
    "\t\"timestamp\": 1493891094.003974,\n",
    "\t\"message\": \"(0.008653s) SELECT * FROM `domains` WHERE (((`owning_organization_id` = 104314) OR (`id` IN (SELECT `organizations_private_domains`.`private_domain_id` FROM `organizations_private_domains` WHERE (`organizations_private_domains`.`organization_id` = 104314)))) AND ((`owning_organization_id` IS NULL) OR (`owning_organization_id` IN (SELECT `organization_id` FROM (SELECT * FROM (SELECT * FROM (SELECT * FROM (SELECT `organization_id` FROM `organizations_managers` WHERE (`user_id` = 253729) UNION SELECT `organization_id` FROM `organizations_auditors` WHERE (`user_id` = 253729)) AS `t1` UNION SELECT `organization_id` FROM `spaces` INNER JOIN `spaces_developers` ON ((`spaces_developers`.`space_id` = `spaces`.`id`) AND (`spaces_developers`.`user_id` = 253729))) AS `t1` UNION SELECT `organization_id` FROM `spaces` INNER JOIN `spaces_auditors` ON ((`spaces_auditors`.`space_id` = `spaces`.`id`) AND (`spaces_auditors`.`user_id` = 253729))) AS `t1` UNION SELECT `organization_id` FROM `spaces` INNER JOIN `spaces_managers` ON ((`spaces_managers`.`space_id` = `spaces`.`id`) AND (`spaces_managers`.`user_id` = 253729))) AS `t1`)) OR (`id` IN (SELECT `private_domain_id` FROM `organizations_private_domains` WHERE (`organization_id` IN (SELECT `organization_id` FROM (SELECT * FROM (SELECT * FROM (SELECT * FROM (SELECT `organization_id` FROM `organizations_managers` WHERE (`user_id` = 253729) UNION SELECT `organization_id` FROM `organizations_auditors` WHERE (`user_id` = 253729)) AS `t1` UNION SELECT `organization_id` FROM `spaces` INNER JOIN `spaces_developers` ON ((`spaces_developers`.`space_id` = `spaces`.`id`) AND (`spaces_developers`.`user_id` = 253729))) AS `t1` UNION SELECT `organization_id` FROM `spaces` INNER JOIN `spaces_auditors` ON ((`spaces_auditors`.`space_id` = `spaces`.`id`) AND (`spaces_auditors`.`user_id` = 253729))) AS `t1` UNION SELECT `organization_id` FROM `spaces` INNER JOIN `spaces_managers` ON ((`spaces_managers`.`space_id` = `spaces`.`id`) AND (`spaces_managers`.`user_id` = 253729))) AS `t1`)))))) ORDER BY `id` ASC LIMIT 100 OFFSET 0\",\n",
    "\t\"log_level\": \"debug2\",\n",
    "\t\"source\": \"cc.db\",\n",
    "\t\"data\": {\n",
    "\t\t\"request_guid\": \"b10eb56e-8260-418e-55b2-aab8a2dbcb97::db37a71d-c4c7-453f-8995-78a62bdc3ec7\"\n",
    "\t},\n",
    "\t\"thread_id\": 47281040793440,\n",
    "\t\"fiber_id\": 47281038533400,\n",
    "\t\"process_id\": 26932,\n",
    "\t\"file\": \"/var/vcap/packages/cloud_controller_ng/cloud_controller_ng/vendor/bundle/ruby/2.3.0/gems/sequel-4.41.0/lib/sequel/database/logging.rb\",\n",
    "\t\"lineno\": 87,\n",
    "\t\"method\": \"block in log_each\"\n",
    "}\n",
    "```"
   ]
  },
  {
   "cell_type": "code",
   "execution_count": 35,
   "metadata": {
    "collapsed": true
   },
   "outputs": [],
   "source": [
    "capi1 = \"\"\"\\\n",
    "<15>2017-05-04T09:44:54.004074+00:00 10.10.81.56 vcap.cloud_controller_ng [job=donotuseapi_z2 index=3]  {\"timestamp\":1493891094.003974,\"message\":\"(0.008653s) SELECT * FROM `domains` WHERE (((`owning_organization_id` = 104314) OR (`id` IN (SELECT `organizations_private_domains`.`private_domain_id` FROM `organizations_private_domains` WHERE (`organizations_private_domains`.`organization_id` = 104314)))) AND ((`owning_organization_id` IS NULL) OR (`owning_organization_id` IN (SELECT `organization_id` FROM (SELECT * FROM (SELECT * FROM (SELECT * FROM (SELECT `organization_id` FROM `organizations_managers` WHERE (`user_id` = 253729) UNION SELECT `organization_id` FROM `organizations_auditors` WHERE (`user_id` = 253729)) AS `t1` UNION SELECT `organization_id` FROM `spaces` INNER JOIN `spaces_developers` ON ((`spaces_developers`.`space_id` = `spaces`.`id`) AND (`spaces_developers`.`user_id` = 253729))) AS `t1` UNION SELECT `organization_id` FROM `spaces` INNER JOIN `spaces_auditors` ON ((`spaces_auditors`.`space_id` = `spaces`.`id`) AND (`spaces_auditors`.`user_id` = 253729))) AS `t1` UNION SELECT `organization_id` FROM `spaces` INNER JOIN `spaces_managers` ON ((`spaces_managers`.`space_id` = `spaces`.`id`) AND (`spaces_managers`.`user_id` = 253729))) AS `t1`)) OR (`id` IN (SELECT `private_domain_id` FROM `organizations_private_domains` WHERE (`organization_id` IN (SELECT `organization_id` FROM (SELECT * FROM (SELECT * FROM (SELECT * FROM (SELECT `organization_id` FROM `organizations_managers` WHERE (`user_id` = 253729) UNION SELECT `organization_id` FROM `organizations_auditors` WHERE (`user_id` = 253729)) AS `t1` UNION SELECT `organization_id` FROM `spaces` INNER JOIN `spaces_developers` ON ((`spaces_developers`.`space_id` = `spaces`.`id`) AND (`spaces_developers`.`user_id` = 253729))) AS `t1` UNION SELECT `organization_id` FROM `spaces` INNER JOIN `spaces_auditors` ON ((`spaces_auditors`.`space_id` = `spaces`.`id`) AND (`spaces_auditors`.`user_id` = 253729))) AS `t1` UNION SELECT `organization_id` FROM `spaces` INNER JOIN `spaces_managers` ON ((`spaces_managers`.`space_id` = `spaces`.`id`) AND (`spaces_managers`.`user_id` = 253729))) AS `t1`)))))) ORDER BY `id` ASC LIMIT 100 OFFSET 0\",\"log_level\":\"debug2\",\"source\":\"cc.db\",\"data\":{\"request_guid\":\"b10eb56e-8260-418e-55b2-aab8a2dbcb97::db37a71d-c4c7-453f-8995-78a62bdc3ec7\"},\"thread_id\":47281040793440,\"fiber_id\":47281038533400,\"process_id\":26932,\"file\":\"/var/vcap/packages/cloud_controller_ng/cloud_controller_ng/vendor/bundle/ruby/2.3.0/gems/sequel-4.41.0/lib/sequel/database/logging.rb\",\"lineno\":87,\"method\":\"block in log_each\"}\"\"\"\n",
    "\n",
    "lgBasePattern = '\\<(\\d+)\\>([^ ]+) ([^ ]+) ([^ ]+) \\[([^\\]]+)+\\]' \n",
    "lgExtended = '{\"timestamp\":\"?([\\d.]+)\"?\\,\"message\":\"([^\"]+)\"\\,\"log_level\":\"([^\"]+)\"\\,\"source\":\"([^\"]+)\"\\,'\n",
    "nestedKv = '\"data\":\\{(.*)\\}\\,'\n",
    "tail = '\"thread_id\":(\\d+)\\,\"fiber_id\":(\\d+)\\,\"process_id\":(\\d+)\\,\"file\":\"([^\"]+)\"\\,\"lineno\":(\\d+)\\,\"method\":\"([^\"]+)\"}'\n",
    "\n",
    "pat = lgBasePattern + \"  \" + lgExtended + nestedKv + tail"
   ]
  },
  {
   "cell_type": "code",
   "execution_count": 38,
   "metadata": {
    "collapsed": false
   },
   "outputs": [
    {
     "data": {
      "text/plain": [
       "('15',\n",
       " '2017-05-04T09:44:54.004074+00:00',\n",
       " '10.10.81.56',\n",
       " 'vcap.cloud_controller_ng',\n",
       " 'job=donotuseapi_z2 index=3',\n",
       " '1493891094.003974',\n",
       " '(0.008653s) SELECT * FROM `domains` WHERE (((`owning_organization_id` = 104314) OR (`id` IN (SELECT `organizations_private_domains`.`private_domain_id` FROM `organizations_private_domains` WHERE (`organizations_private_domains`.`organization_id` = 104314)))) AND ((`owning_organization_id` IS NULL) OR (`owning_organization_id` IN (SELECT `organization_id` FROM (SELECT * FROM (SELECT * FROM (SELECT * FROM (SELECT `organization_id` FROM `organizations_managers` WHERE (`user_id` = 253729) UNION SELECT `organization_id` FROM `organizations_auditors` WHERE (`user_id` = 253729)) AS `t1` UNION SELECT `organization_id` FROM `spaces` INNER JOIN `spaces_developers` ON ((`spaces_developers`.`space_id` = `spaces`.`id`) AND (`spaces_developers`.`user_id` = 253729))) AS `t1` UNION SELECT `organization_id` FROM `spaces` INNER JOIN `spaces_auditors` ON ((`spaces_auditors`.`space_id` = `spaces`.`id`) AND (`spaces_auditors`.`user_id` = 253729))) AS `t1` UNION SELECT `organization_id` FROM `spaces` INNER JOIN `spaces_managers` ON ((`spaces_managers`.`space_id` = `spaces`.`id`) AND (`spaces_managers`.`user_id` = 253729))) AS `t1`)) OR (`id` IN (SELECT `private_domain_id` FROM `organizations_private_domains` WHERE (`organization_id` IN (SELECT `organization_id` FROM (SELECT * FROM (SELECT * FROM (SELECT * FROM (SELECT `organization_id` FROM `organizations_managers` WHERE (`user_id` = 253729) UNION SELECT `organization_id` FROM `organizations_auditors` WHERE (`user_id` = 253729)) AS `t1` UNION SELECT `organization_id` FROM `spaces` INNER JOIN `spaces_developers` ON ((`spaces_developers`.`space_id` = `spaces`.`id`) AND (`spaces_developers`.`user_id` = 253729))) AS `t1` UNION SELECT `organization_id` FROM `spaces` INNER JOIN `spaces_auditors` ON ((`spaces_auditors`.`space_id` = `spaces`.`id`) AND (`spaces_auditors`.`user_id` = 253729))) AS `t1` UNION SELECT `organization_id` FROM `spaces` INNER JOIN `spaces_managers` ON ((`spaces_managers`.`space_id` = `spaces`.`id`) AND (`spaces_managers`.`user_id` = 253729))) AS `t1`)))))) ORDER BY `id` ASC LIMIT 100 OFFSET 0',\n",
       " 'debug2',\n",
       " 'cc.db',\n",
       " '\"request_guid\":\"b10eb56e-8260-418e-55b2-aab8a2dbcb97::db37a71d-c4c7-453f-8995-78a62bdc3ec7\"',\n",
       " '47281040793440',\n",
       " '47281038533400',\n",
       " '26932',\n",
       " '/var/vcap/packages/cloud_controller_ng/cloud_controller_ng/vendor/bundle/ruby/2.3.0/gems/sequel-4.41.0/lib/sequel/database/logging.rb',\n",
       " '87',\n",
       " 'block in log_each')"
      ]
     },
     "execution_count": 38,
     "metadata": {},
     "output_type": "execute_result"
    }
   ],
   "source": [
    "m = re.compile(pat)\n",
    "m.match(capi1).groups()"
   ]
  },
  {
   "cell_type": "code",
   "execution_count": null,
   "metadata": {
    "collapsed": true
   },
   "outputs": [],
   "source": []
  }
 ],
 "metadata": {
  "kernelspec": {
   "display_name": "Python 3",
   "language": "python",
   "name": "python3"
  },
  "language_info": {
   "codemirror_mode": {
    "name": "ipython",
    "version": 3
   },
   "file_extension": ".py",
   "mimetype": "text/x-python",
   "name": "python",
   "nbconvert_exporter": "python",
   "pygments_lexer": "ipython3",
   "version": "3.6.0"
  }
 },
 "nbformat": 4,
 "nbformat_minor": 2
}
