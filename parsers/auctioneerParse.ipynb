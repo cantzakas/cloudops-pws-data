{
 "cells": [
  {
   "cell_type": "markdown",
   "metadata": {},
   "source": [
    "```\n",
    "<14>2017-05-09T09:30:49.414238+00:00 10.10.114.32 vcap.auctioneer [job=brain_z1 index=0]  \n",
    "{\n",
    "\t\"timestamp\": \"1494322249.414190531\",\n",
    "\t\"source\": \"auctioneer\",\n",
    "\t\"message\": \"auctioneer.auction.schedule-lrp-auction-after-error\",\n",
    "\t\"log_level\": 1,\n",
    "\t\"data\": {\n",
    "\t\t\"error\": {\n",
    "\t\t\t\"Problems\": {\n",
    "\t\t\t\t\"memory\": {}\n",
    "\t\t\t}\n",
    "\t\t},\n",
    "\t\t\"problems\": {\n",
    "\t\t\t\"memory\": {}\n",
    "\t\t},\n",
    "\t\t\"session\": \"399593\"\n",
    "\t}\n",
    "}\n",
    "```"
   ]
  },
  {
   "cell_type": "code",
   "execution_count": 1,
   "metadata": {
    "collapsed": true
   },
   "outputs": [],
   "source": [
    "import re"
   ]
  },
  {
   "cell_type": "code",
   "execution_count": 6,
   "metadata": {
    "collapsed": true
   },
   "outputs": [],
   "source": [
    "auc1 = \"\"\"\\\n",
    "<14>2017-05-02T11:40:48.247646+00:00 10.10.114.32 vcap.auctioneer [job=brain_z1 index=0]  {\"timestamp\":\"1493725248.247596979\",\"source\":\"auctioneer\",\"message\":\"auctioneer.auction.schedule-lrp-auction-after-error\",\"log_level\":1,\"data\":{\"error\":{\"Problems\":{\"memory\":{}}},\"problems\":{\"memory\":{}},\"session\":\"262809\"}}\"\"\"\n",
    "\n",
    "lgBasePattern = '\\<(\\d+)\\>([^ ]+) ([^ ]+) ([^ ]+) \\[([^\\]]+)+\\]  ' \n",
    "lgExtended = '{\"timestamp\":\"?([\\d.]+)\"?\\,\"source\":\"([^\"]+)\"\\,\"message\":\"([^\"]+)\"\\,\"log_level\":\"?([^\"]+)\"?\\,'\n",
    "nestedKv = '\"data\":(.*)\\,'\n",
    "\n",
    "pat = lgBasePattern + lgExtended + nestedKv"
   ]
  },
  {
   "cell_type": "code",
   "execution_count": 7,
   "metadata": {
    "collapsed": false
   },
   "outputs": [
    {
     "data": {
      "text/plain": [
       "('14',\n",
       " '2017-05-02T11:40:48.247646+00:00',\n",
       " '10.10.114.32',\n",
       " 'vcap.auctioneer',\n",
       " 'job=brain_z1 index=0',\n",
       " '1493725248.247596979',\n",
       " 'auctioneer',\n",
       " 'auctioneer.auction.schedule-lrp-auction-after-error',\n",
       " '1',\n",
       " '{\"error\":{\"Problems\":{\"memory\":{}}},\"problems\":{\"memory\":{}}')"
      ]
     },
     "execution_count": 7,
     "metadata": {},
     "output_type": "execute_result"
    }
   ],
   "source": [
    "m = re.compile(pat)\n",
    "m.match(auc1).groups()"
   ]
  },
  {
   "cell_type": "code",
   "execution_count": null,
   "metadata": {
    "collapsed": true
   },
   "outputs": [],
   "source": []
  }
 ],
 "metadata": {
  "kernelspec": {
   "display_name": "Python [Root]",
   "language": "python",
   "name": "Python [Root]"
  },
  "language_info": {
   "codemirror_mode": {
    "name": "ipython",
    "version": 3
   },
   "file_extension": ".py",
   "mimetype": "text/x-python",
   "name": "python",
   "nbconvert_exporter": "python",
   "pygments_lexer": "ipython3",
   "version": "3.6.0"
  }
 },
 "nbformat": 4,
 "nbformat_minor": 2
}
