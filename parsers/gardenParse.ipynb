{
 "cells": [
  {
   "cell_type": "markdown",
   "metadata": {},
   "source": [
    "```\n",
    "<14>2017-05-10T01:00:06.957502+00:00 10.10.148.70 vcap.garden [job=cell_z2 index=38] {\n",
    "\t\"timestamp\": \"1494378006.957007885\",\n",
    "\t\"source\": \"guardian\",\n",
    "\t\"message\": \"guardian.run.exec.execrunner.done\",\n",
    "\t\"log_level\": 1,\n",
    "\t\"data\": {\n",
    "\t\t\"handle\": \"63a53b1b-0104-4165-6da9-ac5c\",\n",
    "\t\t\"id\": \"63a53b1b-0104-4165-6da9-ac5c\",\n",
    "\t\t\"path\": \"/tmp/lifecycle/healthcheck\",\n",
    "\t\t\"session\": \"325207.2.2\"\n",
    "\t}\n",
    "}\n",
    "```           \n",
    "            "
   ]
  },
  {
   "cell_type": "code",
   "execution_count": 1,
   "metadata": {
    "collapsed": true
   },
   "outputs": [],
   "source": [
    "import re\n",
    "\n",
    "gd1 = \"\"\"\\\n",
    "<14>2017-04-25T00:27:05.069171+00:00 10.10.147.148 vcap.garden [job=cell_z1 index=95]  {\"timestamp\":\"1493080025.069096088\",\"source\":\"guardian\",\"message\":\"guardian.run.exec.execrunner.start\",\"log_level\":1,\"data\":{\"handle\":\"5efce42b-36ee-45a9-7176-54c8f7368161\",\"id\":\"5efce42b-36ee-45a9-7176-54c8f7368161\",\"path\":\"/tmp/lifecycle/healthcheck\",\"session\":\"7017237.2.2\"}}\"\"\"\n",
    "\n",
    "gd2 = \"\"\"\\\n",
    "<14>2017-05-11T02:18:51.432289+00:00 10.10.148.98 vcap.garden [job=cell_z2 index=32]  {\"timestamp\":\"1494469131.432107449\",\"source\":\"guardian\",\"message\":\"guardian.run.exec.finished\",\"log_level\":1,\"data\":{\"handle\":\"241e2c5a-7ae0-48f8-6fb4-2da7\",\"id\":\"241e2c5a-7ae0-48f8-6fb4-2da7\",\"path\":\"/tmp/lifecycle/healthcheck\",\"session\":\"1679713.2\"}}\"\"\"\n",
    "\n",
    "lgBasePattern = '\\<(\\d+)\\>([^ ]+) ([^ ]+) ([^ ]+) \\[([^\\]]+)+\\]' \n",
    "lgExtended = '{\"timestamp\":\"?([\\d.]+)\"?\\,\"source\":\"([^\"]+)\"\\,\"message\":\"([^\"]+)\"\\,\"log_level\":\"?([^\"]+)\"?\\,\"data\":(.*)}'\n",
    "\n",
    "\n",
    "pat = lgBasePattern + \"  \" + lgExtended "
   ]
  },
  {
   "cell_type": "code",
   "execution_count": 2,
   "metadata": {
    "collapsed": false
   },
   "outputs": [
    {
     "data": {
      "text/plain": [
       "('14',\n",
       " '2017-05-11T02:18:51.432289+00:00',\n",
       " '10.10.148.98',\n",
       " 'vcap.garden',\n",
       " 'job=cell_z2 index=32',\n",
       " '1494469131.432107449',\n",
       " 'guardian',\n",
       " 'guardian.run.exec.finished',\n",
       " '1',\n",
       " '{\"handle\":\"241e2c5a-7ae0-48f8-6fb4-2da7\",\"id\":\"241e2c5a-7ae0-48f8-6fb4-2da7\",\"path\":\"/tmp/lifecycle/healthcheck\",\"session\":\"1679713.2\"}')"
      ]
     },
     "execution_count": 2,
     "metadata": {},
     "output_type": "execute_result"
    }
   ],
   "source": [
    "m = re.compile(pat)\n",
    "m.match(gd2).groups()"
   ]
  },
  {
   "cell_type": "code",
   "execution_count": null,
   "metadata": {
    "collapsed": true
   },
   "outputs": [],
   "source": []
  }
 ],
 "metadata": {
  "kernelspec": {
   "display_name": "Python [Root]",
   "language": "python",
   "name": "Python [Root]"
  },
  "language_info": {
   "codemirror_mode": {
    "name": "ipython",
    "version": 3
   },
   "file_extension": ".py",
   "mimetype": "text/x-python",
   "name": "python",
   "nbconvert_exporter": "python",
   "pygments_lexer": "ipython3",
   "version": "3.6.0"
  }
 },
 "nbformat": 4,
 "nbformat_minor": 2
}
