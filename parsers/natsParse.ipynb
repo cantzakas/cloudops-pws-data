{
 "cells": [
  {
   "cell_type": "markdown",
   "metadata": {},
   "source": [
    "```\n",
    "<14>2017-05-10T00:59:02.727039+00:00 10.10.80.11 vcap.nats [job=nats_z2 index=0]  \n",
    "{\n",
    "\t\"timestamp\": 1494142470.786167,\n",
    "\t\"source\": \"NatsStreamForwarder\",\n",
    "\t\"log_level\": \"info\",\n",
    "\t\"message\": \"router.register\",\n",
    "\t\"data\": {\n",
    "\t\t\"nats_message\": \"{\\\"host\\\":\\\"10.10.148.78\\\",\\\"port\\\":61053,\\\"uris\\\":[\\\"oas.cfapps.io\\\"],\\\"app\\\":\\\"1c122693-47f0-472c-9c5d-161bb1467dc6\\\",\\\"private_instance_id\\\":\\\"238da8fb-bf66-4b32-6659-5fd9\\\",\\\"private_instance_index\\\":\\\"0\\\",\\\"tags\\\":{\\\"component\\\":\\\"route-emitter\\\"}}\",\n",
    "\t\t\"reply_inbox\": null\n",
    "\t}\n",
    "}\n",
    "```"
   ]
  },
  {
   "cell_type": "code",
   "execution_count": 1,
   "metadata": {
    "collapsed": true
   },
   "outputs": [],
   "source": [
    "import re\n",
    "\n",
    "nt1 = \"\"\"\\\n",
    "<14>2017-05-07T07:34:30.787712+00:00 10.10.16.11 vcap.nats [job=nats_z1 index=0]  {\"timestamp\":1494142470.786167,\"source\":\"NatsStreamForwarder\",\"log_level\":\"info\",\"message\":\"router.register\",\"data\":{\"nats_message\": \"{\\\"host\\\":\\\"10.10.148.78\\\",\\\"port\\\":61053,\\\"uris\\\":[\\\"oas.cfapps.io\\\"],\\\"app\\\":\\\"1c122693-47f0-472c-9c5d-161bb1467dc6\\\",\\\"private_instance_id\\\":\\\"238da8fb-bf66-4b32-6659-5fd9\\\",\\\"private_instance_index\\\":\\\"0\\\",\\\"tags\\\":{\\\"component\\\":\\\"route-emitter\\\"}}\",\"reply_inbox\":null}}\"\"\"\n",
    "\n",
    "lgBasePattern = '\\<(\\d+)\\>([^ ]+) ([^ ]+) ([^ ]+) \\[([^\\]]+)+\\]' \n",
    "lgExtended = '{\"timestamp\":([\\d.]+)\\,\"source\":\"([^\"]+)\"\\,\"log_level\":\"([^\"]+)\"\\,\"message\":\"([^\"]+)\",\"data\":{\"nats_message\": \"({.*})\",\"reply_inbox\":\"?([^\"]+)\"?}}'\n",
    "\n",
    "#                      hostname   time             request   \n",
    "natsPattern = '()'\n",
    "goRouterKvPattern = '[a-z_]+:\"([^\"]+)\" [a-z_]+:\"([^\"]+)\" [a-z_]+:\"([^\"]+)\" [a-z_]+:([^ ]+) [a-z_]+:([^ ]+) (.*)'\n",
    "\n",
    "\n",
    "pat = lgBasePattern + \"  \" + lgExtended\n"
   ]
  },
  {
   "cell_type": "code",
   "execution_count": 2,
   "metadata": {
    "collapsed": false
   },
   "outputs": [
    {
     "data": {
      "text/plain": [
       "('14',\n",
       " '2017-05-07T07:34:30.787712+00:00',\n",
       " '10.10.16.11',\n",
       " 'vcap.nats',\n",
       " 'job=nats_z1 index=0',\n",
       " '1494142470.786167',\n",
       " 'NatsStreamForwarder',\n",
       " 'info',\n",
       " 'router.register',\n",
       " '{\"host\":\"10.10.148.78\",\"port\":61053,\"uris\":[\"oas.cfapps.io\"],\"app\":\"1c122693-47f0-472c-9c5d-161bb1467dc6\",\"private_instance_id\":\"238da8fb-bf66-4b32-6659-5fd9\",\"private_instance_index\":\"0\",\"tags\":{\"component\":\"route-emitter\"}}',\n",
       " 'null')"
      ]
     },
     "execution_count": 2,
     "metadata": {},
     "output_type": "execute_result"
    }
   ],
   "source": [
    "m = re.compile(pat)\n",
    "m.match(nt1).groups()"
   ]
  },
  {
   "cell_type": "code",
   "execution_count": 4,
   "metadata": {
    "collapsed": true
   },
   "outputs": [],
   "source": [
    "from ast import literal_eval"
   ]
  },
  {
   "cell_type": "code",
   "execution_count": 5,
   "metadata": {
    "collapsed": false
   },
   "outputs": [
    {
     "data": {
      "text/plain": [
       "{'app': '1c122693-47f0-472c-9c5d-161bb1467dc6',\n",
       " 'host': '10.10.148.78',\n",
       " 'port': 61053,\n",
       " 'private_instance_id': '238da8fb-bf66-4b32-6659-5fd9',\n",
       " 'private_instance_index': '0',\n",
       " 'tags': {'component': 'route-emitter'},\n",
       " 'uris': ['oas.cfapps.io']}"
      ]
     },
     "execution_count": 5,
     "metadata": {},
     "output_type": "execute_result"
    }
   ],
   "source": [
    "literal_eval(m.match(nt1).groups()[-2])"
   ]
  },
  {
   "cell_type": "code",
   "execution_count": null,
   "metadata": {
    "collapsed": true
   },
   "outputs": [],
   "source": []
  }
 ],
 "metadata": {
  "kernelspec": {
   "display_name": "Python [Root]",
   "language": "python",
   "name": "Python [Root]"
  },
  "language_info": {
   "codemirror_mode": {
    "name": "ipython",
    "version": 3
   },
   "file_extension": ".py",
   "mimetype": "text/x-python",
   "name": "python",
   "nbconvert_exporter": "python",
   "pygments_lexer": "ipython3",
   "version": "3.6.0"
  }
 },
 "nbformat": 4,
 "nbformat_minor": 2
}
