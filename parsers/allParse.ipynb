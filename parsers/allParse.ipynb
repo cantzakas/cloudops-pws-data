{
 "cells": [
  {
   "cell_type": "code",
   "execution_count": 1,
   "metadata": {
    "collapsed": true
   },
   "outputs": [],
   "source": [
    "import re"
   ]
  },
  {
   "cell_type": "code",
   "execution_count": 191,
   "metadata": {
    "collapsed": false
   },
   "outputs": [
    {
     "name": "stdout",
     "output_type": "stream",
     "text": [
      "16\n"
     ]
    },
    {
     "data": {
      "text/plain": [
       "('1494270451956',\n",
       " 'Updated app with guid 5fb7bdb2-5478-4670-935d-7eda86cdb2b6 ',\n",
       " 'api-staging-agora',\n",
       " 'PRIVATE DATA HIDDEN',\n",
       " '512',\n",
       " 'ruby_buildpack',\n",
       " 'PRIVATE DATA HIDDEN',\n",
       " None,\n",
       " None,\n",
       " None,\n",
       " None,\n",
       " None,\n",
       " 'OUT',\n",
       " 'API',\n",
       " '0',\n",
       " '5fb7bdb2-5478-4670-935d-7eda86cdb2b6')"
      ]
     },
     "execution_count": 191,
     "metadata": {},
     "output_type": "execute_result"
    }
   ],
   "source": [
    "api=\\\n",
    "\"\"\"{'date': 1493533391270, 'message': 'App instance exited with guid a395fdcb-4570-4914-895f-a43231ec924b payload: {\"instance\"=>\"0e00ccfd-7954-43df-5848-f77092a7c114\", \"index\"=>0, \"reason\"=>\"CRASHED\", \"exit_description\"=>\"2 error(s) occurred:\\\\n\\\\n* 1 error(s) occurred:\\\\n\\\\n* Exited with status 4\\\\n* 2 error(s) occurred:\\\\n\\\\n* cancelled\\\\n* process did not exit\", \"crash_count\"=>5, \"crash_timestamp\"=>1493533391162467512, \"version\"=>\"1e67e4ce-6b52-4daf-96b0-ed0b7132cc5b\"}', 'messageType': 'OUT', 'sourceType': 'API', 'sourceInstance': '6', 'appId': 'a395fdcb-4570-4914-895f-a43231ec924b'}\"\"\"\n",
    "\n",
    "apia=\"\"\"\\\n",
    "{'date': 1494103282341, 'message': 'Process has crashed with type: \"web\"', 'messageType': 'OUT', 'sourceType': 'API', 'sourceInstance': '6', 'appId': '8568c5f4-358c-4a56-a793-8aba627d3bab'}\n",
    "\"\"\"\n",
    "\n",
    "apib=\"\"\"\\\n",
    "{'date': 1493989150689, 'message': 'Updated app with guid f2981826-e25e-464d-85cd-7c2a3de4e249 ({\"route\"=>\"51e1b791-eb32-42b8-8241-d4947c49257b\", :verb=>\"add\", :relation=>\"routes\", :related_guid=>\"51e1b791-eb32-42b8-8241-d4947c49257b\"})', 'messageType': 'OUT', 'sourceType': 'API', 'sourceInstance': '6', 'appId': 'f2981826-e25e-464d-85cd-7c2a3de4e249'}\n",
    "\"\"\"\n",
    "\n",
    "apic=\"\"\"\\\n",
    "{'date': 1493950739610, 'message': 'Updated app with guid bdeab700-7d73-4e3b-bae9-cdc028b3ba5e ({\"memory\"=>128, \"disk_quota\"=>256})', 'messageType': 'OUT', 'sourceType': 'API', 'sourceInstance': '3', 'appId': 'bdeab700-7d73-4e3b-bae9-cdc028b3ba5e'}\n",
    "\"\"\"\n",
    "\n",
    "apid=\"\"\"\\\n",
    "{'date': 1493305078965, 'message': 'App instance exited with guid 7d93d7b9-affa-498c-97ed-616da0795c7d payload: {\"instance\"=>\"\", \"index\"=>0, \"reason\"=>\"CRASHED\", \"exit_description\"=>\"2 error(s) occurred:\\\\n\\\\n* 2 error(s) occurred:\\\\n\\\\n* Exited with status 1\\\\n* cancelled\\\\n* cancelled\", \"crash_count\"=>68, \"crash_timestamp\"=>1493305078908738396, \"version\"=>\"8db7077a-a253-4078-9313-3d59c9db81b2\"}', 'messageType': 'OUT', 'sourceType': 'API', 'sourceInstance': '4', 'appId': '7d93d7b9-affa-498c-97ed-616da0795c7d'}\n",
    "\"\"\"\n",
    "\n",
    "apie=\"\"\"\\\n",
    "{'date': 1494270451956, 'message': 'Updated app with guid 5fb7bdb2-5478-4670-935d-7eda86cdb2b6 ({\"name\"=>\"api-staging-agora\", \"command\"=>\"PRIVATE DATA HIDDEN\", \"memory\"=>512, \"buildpack\"=>\"ruby_buildpack\", \"environment_json\"=>\"PRIVATE DATA HIDDEN\"})', 'messageType': 'OUT', 'sourceType': 'API', 'sourceInstance': '0', 'appId': '5fb7bdb2-5478-4670-935d-7eda86cdb2b6'}\n",
    "\"\"\"\n",
    "\n",
    "apiPartOne = \"{'[a-z]+': (?P<date>\\d+), '[a-z]+': '?\"\n",
    "\n",
    "payloadBase = '(?P<msgText>[0-9A-z- ]+(?:[: A-z\"]+)?)[: {(]*'\n",
    "payloadFirstToken = '(?:\"?[A-z_:]+\"?\\=\\>\"?([A-z0-9- ]*)\"?[,)}\\',]*)? ?'\n",
    "\n",
    "payloadRemainingTokens = \"\".join(['(?:\"?[A-z_:]+\"?\\=\\>\"?((?:\\d+|[^\"]+))\"?[,)}\\',]*)? ?']*9)\n",
    "\n",
    "payloadPattern = payloadBase + payloadFirstToken + payloadRemainingTokens\n",
    "\n",
    "apiPartThree = \"', '[A-z]+': '(?P<messageType>ERR|OUT)', '[A-z]+': '(?P<sourceType>[A-Z]+)', '[A-z]+': '(?P<sourceInstance>[0-9]+)', '[A-z]+': '(?P<appId>[0-9a-f-]+)'}\"\n",
    "\n",
    "#print(payloadBase + payloadFirstToken + '(?:\"?[A-z_:]+\"?\\=\\>\"?((?:\\d+|[^\"]+))\"?[,)}\\',]*)? ?')\n",
    "#print('(?P<msgText>[0-9A-z- ]+(?:[: A-z\"]+)?)[: {(]*(?:\"?[A-z_:]+\"?\\=\\>\"?([A-z0-9- ]*)\"?[,)}\\',]*)? ?(?:\"?[A-z_:]+\"?\\=\\>\"?((?:\\d+|[^\"]+))\"?[,)}\\',]*)? ?')\n",
    "\n",
    "apiMa = re.compile(apiPartOne + payloadPattern + apiPartThree)\n",
    "print(len(apiMa.match(apie).groups()))\n",
    "apiMa.match(apie).groups()"
   ]
  },
  {
   "cell_type": "code",
   "execution_count": null,
   "metadata": {
    "collapsed": true
   },
   "outputs": [],
   "source": [
    "CREATE SEQUENCE capi_parsed_log_id_seq ;\n",
    "create table capi \n",
    "(\n",
    "    log_id BIGINT default nextval('capi_parsed_log_id_seq'),\n",
    "    time timestamp,\n",
    "    messagestring text,\n",
    "    messagetoken1 text,\n",
    "    messagetoken2 text,\n",
    "    messagetoken3 text,\n",
    "    messagetoken4 text,\n",
    "    messagetoken5 text,\n",
    "    messagetoken6 text,\n",
    "    messagetoken7 text,\n",
    "    messagetoken8 text,\n",
    "    messagetoken9 text,\n",
    "    messagetoken10 text,\n",
    "    messagetype char(3),\n",
    "    sourcetype char(3),\n",
    "    sourceinstance smallint,\n",
    "    appid text\n",
    ") \n",
    "with (appendonly=true, compresstype=zlib, compresslevel=5, orientation=column)\n",
    "distributed randomly;\n",
    "\n",
    "COPY capi (time, messagestring, messagetoken1, messagetoken2, messagetoken3, \n",
    "           messagetoken4, messagetoken5, messagetoken6, messagetoken7,\n",
    "           messagetoken8, messagetoken9, messagetoken10,\n",
    "           messagetype, sourcetype, sourceinstance, appid) from stdin CSV\n",
    "\n",
    "\n",
    "CREATE external table ext_capi( \n",
    "    time bigint,     \n",
    "    messagestring text,\n",
    "    messagetoken1 text,\n",
    "    messagetoken2 text,\n",
    "    messagetoken3 text,\n",
    "    messagetoken4 text,\n",
    "    messagetoken5 text,\n",
    "    messagetoken6 text,\n",
    "    messagetoken7 text,\n",
    "    messagetoken8 text,\n",
    "    messagetoken9 text,\n",
    "    messagetoken10 text,\n",
    "    messagetype char(3),\n",
    "    sourcetype char(3),\n",
    "    sourceinstance smallint,\n",
    "    appid text \n",
    ") \n",
    "location ('file://gpdb-sandbox.localdomain/home/gpadmin/pcfLogs/capi-clean.csv') \n",
    "FORMAT 'CSV' ;\n",
    "\n",
    "INSERT INTO capi (time, messagestring, messagetoken1, messagetoken2, messagetoken3, \n",
    "           messagetoken4, messagetoken5, messagetoken6, messagetoken7,\n",
    "           messagetoken8, messagetoken9, messagetoken10,\n",
    "           messagetype, sourcetype, sourceinstance, appid) \n",
    "(SELECT to_timestamp(time/1000), messagestring, messagetoken1, messagetoken2, messagetoken3, \n",
    "           messagetoken4, messagetoken5, messagetoken6, messagetoken7,\n",
    "           messagetoken8, messagetoken9, messagetoken10,\n",
    "           messagetype, sourcetype, sourceinstance, appid FROM ext_capi) ;"
   ]
  },
  {
   "cell_type": "code",
   "execution_count": 23,
   "metadata": {
    "collapsed": false
   },
   "outputs": [
    {
     "data": {
      "text/plain": [
       "('1493277005516',\n",
       " 'Uploaded build artifacts cache (200B)',\n",
       " 'OUT',\n",
       " 'STG',\n",
       " '0',\n",
       " 'a3473944-fd8f-4300-ba45-1fc8d347cfba')"
      ]
     },
     "execution_count": 23,
     "metadata": {},
     "output_type": "execute_result"
    }
   ],
   "source": [
    "stg=\\\n",
    "\"\"\"{'date': 1493277005516, 'message': 'Uploaded build artifacts cache (200B)', 'messageType': 'OUT', 'sourceType': 'STG', 'sourceInstance': '0', 'appId': 'a3473944-fd8f-4300-ba45-1fc8d347cfba'}\"\"\"\n",
    "\n",
    "\n",
    "stgPattern = \"{'[a-z]+': (?P<date>\\d+), '[a-z]+': '(?P<message>[^']*)', '[A-z]+': '(?P<messageType>ERR|OUT)', '[A-z]+': '(?P<sourceType>[A-Z]+)', '[A-z]+': '(?P<sourceInstance>[0-9]+)', '[A-z]+': '(?P<appId>[0-9a-f-]+)'}\"\n",
    "\n",
    "stgM = re.compile(stgPattern)\n",
    "stgM.match(stg).groups()\n"
   ]
  },
  {
   "cell_type": "code",
   "execution_count": null,
   "metadata": {
    "collapsed": true
   },
   "outputs": [],
   "source": [
    "CREATE SEQUENCE diego_stg_parsed_log_id_seq ;\n",
    "create table diego_stg \n",
    "(\n",
    "    log_id BIGINT default nextval('diego_stg_parsed_log_id_seq'),\n",
    "    time bigint,\n",
    "    messagestring text,\n",
    "    messagetype char(3),\n",
    "    sourcetype char(3),\n",
    "    sourceinstance smallint,\n",
    "    appid text\n",
    ") \n",
    "with (appendonly=true, compresstype=zlib, compresslevel=5, orientation=column)\n",
    "distributed randomly;\n",
    "\n",
    "COPY diego_stg (time, messagestring, messagetype, sourcetype, \n",
    "             sourceinstance, appid) from stdin CSV"
   ]
  },
  {
   "cell_type": "code",
   "execution_count": 5,
   "metadata": {
    "collapsed": false
   },
   "outputs": [
    {
     "name": "stdout",
     "output_type": "stream",
     "text": [
      "28\n"
     ]
    },
    {
     "data": {
      "text/plain": [
       "('1494292420506',\n",
       " 'discovery-service-noninclinatory-distilery.cfapps.io',\n",
       " '2017-05-09T01:13:40.504+0000',\n",
       " 'PUT /eureka/apps/INVENTORY-SERVICE/6f030a2a-b6c5-4d8f-6f4a-f49b?status=UP&lastDirtyTimestamp=1494276865348 HTTP/1.1',\n",
       " '200',\n",
       " '0',\n",
       " '0',\n",
       " '-',\n",
       " 'Java-EurekaClient/v1.4.6',\n",
       " '10.10.2.224',\n",
       " '46667',\n",
       " '10.10.147.52',\n",
       " '61075',\n",
       " '54.166.89.110',\n",
       " 'http',\n",
       " 'da8e22bb-52a9-4df7-6df5-4f58d6aea45f',\n",
       " '0.002281495',\n",
       " '\"8585c6d8-75aa-4141-af46-6aa6ea50ab83\"',\n",
       " '0',\n",
       " '4a4f2642bd538c0c',\n",
       " '4a4f2642bd538c0c',\n",
       " '-',\n",
       " 'OUT',\n",
       " 'RTR',\n",
       " '2',\n",
       " '8585c6d8-75aa-4141-af46-6aa6ea50ab83',\n",
       " '4a4f2642bd538c0c',\n",
       " '4a4f2642bd538c0c')"
      ]
     },
     "execution_count": 5,
     "metadata": {},
     "output_type": "execute_result"
    }
   ],
   "source": [
    "rtr=\\\n",
    "\"\"\"{'date': 1493536563339, 'message': 'api.europeana.eu - [2017-04-30T07:16:02.350+0000] \"GET /api/v2/thumbnail-by-url.json?size=w400&type=IMAGE&uri=https%3A%2F%2Fwww.rijksmuseum.nl%2Fassetimage2.jsp%3Fid%3DRP-F-2007-357-64 HTTP/1.1\" 200 0 107210 \"http://www.europeana.eu/portal/da/collections/art?f%5BREUSABILITY%5D%5B%5D=open&f%5BTYPE%5D%5B%5D=IMAGE&page=9&q=Finland\" \"Mozilla/5.0 (Macintosh; Intel Mac OS X 10_10_5) AppleWebKit/537.36 (KHTML, like Gecko) Chrome/57.0.2987.133 Safari/537.36 OPR/44.0.2510.1449\" \"10.10.66.242:22920\" \"10.10.148.77:61015\" x_forwarded_for:\"5.103.56.83, 54.158.195.39\" x_forwarded_proto:\"http\" vcap_request_id:\"0e1e58b1-8f29-4372-7150-d1a90513629a\" response_time:0.989416602 app_id:\"aea3bb1a-4c84-4b3f-95c8-317621b7f962\" app_index:\"1\" x_b3_traceid:\"2b22064ddf4a1487\" x_b3_spanid:\"2b22064ddf4a1487\" x_b3_parentspanid:\"-\"\\n', 'messageType': 'OUT', 'sourceType': 'RTR', 'sourceInstance': '5', 'appId': 'aea3bb1a-4c84-4b3f-95c8-317621b7f962', 'traceId': '2b22064ddf4a1487', 'spanId': '2b22064ddf4a1487'}\n",
    "\"\"\"\n",
    "\n",
    "rtr2=\\\n",
    "\"\"\"{'date': 1493576881806, 'message': 'iuhad89fgyphauihdfg9p8h.cfapps.io - [2017-04-30T18:28:01.803+0000] \"POST /events HTTP/1.1\" 200 584 2 \"https://iuhad89fgyphauihdfg9p8h.cfapps.io/events\" \"SendGrid Event API\" \"10.10.66.97:32150\" \"10.10.147.108:61106\" x_forwarded_for:\"167.89.125.250\" x_forwarded_proto:\"https\" vcap_request_id:\"c101367d-88ea-4d04-6fb3-02f064a33796\" response_time:0.00280887 app_id:\"f3634f33-65fd-4661-a221-99ce2eddea84\" app_index:\"1\" x_b3_traceid:\"ed27dbb0cbaa9401\" x_b3_spanid:\"ed27dbb0cbaa9401\" x_b3_parentspanid:\"-\"\\n', 'messageType': 'OUT', 'sourceType': 'RTR', 'sourceInstance': '5', 'appId': 'f3634f33-65fd-4661-a221-99ce2eddea84', 'traceId': 'ed27dbb0cbaa9401', 'spanId': 'ed27dbb0cbaa9401'}\n",
    "\"\"\"\n",
    "\n",
    "rtr3=\\\n",
    "\"\"\"{'date': 1494292420506, 'message': 'discovery-service-noninclinatory-distilery.cfapps.io - [2017-05-09T01:13:40.504+0000] \"PUT /eureka/apps/INVENTORY-SERVICE/6f030a2a-b6c5-4d8f-6f4a-f49b?status=UP&lastDirtyTimestamp=1494276865348 HTTP/1.1\" 200 0 0 \"-\" \"Java-EurekaClient/v1.4.6\" \"10.10.2.224:46667\" \"10.10.147.52:61075\" x_forwarded_for:\"54.166.89.110\" x_forwarded_proto:\"http\" vcap_request_id:\"da8e22bb-52a9-4df7-6df5-4f58d6aea45f\" response_time:0.002281495 app_id:\"8585c6d8-75aa-4141-af46-6aa6ea50ab83\" app_index:\"0\" x_b3_traceid:\"4a4f2642bd538c0c\" x_b3_spanid:\"4a4f2642bd538c0c\" x_b3_parentspanid:\"-\"\\n', 'messageType': 'OUT', 'sourceType': 'RTR', 'sourceInstance': '2', 'appId': '8585c6d8-75aa-4141-af46-6aa6ea50ab83', 'traceId': '4a4f2642bd538c0c', 'spanId': '4a4f2642bd538c0c'}\n",
    "\"\"\"\n",
    "\n",
    "basePattern = '([^ \\s]+) - \\[([0-9T:.+-]+)\\] \"(.+ HTTP\\/1\\.1)\" \"?([\\d-]+)\"? (\\d+) (\\d+) \"([^\"]+)\" \"([^\"]+)\" \"([0-9.]+):(\\d+)\" \"([0-9.]+):(\\d+)\"'\n",
    "kvPattern = '[a-z_]+:\"([^\"]+)\" [a-z_]+:\"([^\"]+)\" [a-z_]+:\"([^\"]+)\" [a-z_]+:([^ ]+) [a-z_]+:([^ ]+) [a-z_]+:\"([\\d]+)\" [a-z0-9_]+:\"([^\"]+)\" [a-z0-9_]+:\"([^\"]+)\" [a-z0-9_]+:\"([^\"]+)\"' \n",
    "\n",
    "rtrPattern = \"{'[a-z]+': (?P<date>\\d+), '[a-z]+': '\" + basePattern + \" \" + kvPattern + \"\\\\n?', '[A-z]+': '(?P<messageType>ERR|OUT)', '[A-z]+': '(?P<sourceType>[A-Z]+)', '[A-z]+': '(?P<sourceInstance>[0-9]+)', '[A-z]+': '(?P<appId>[0-9a-f-]+)', '[A-z]+': '(?P<traceId>[0-9a-f-]+)', '[A-z]+': '(?P<spanId>[0-9a-f-]+)'}\"\n",
    "# note, when running standalone: \"\\\\n?' portion should be r\"\\\\n?'\n",
    "\n",
    "rtrM = re.compile(rtrPattern)\n",
    "print (len(rtrM.match(rtr).groups()))\n",
    "rtrM.match(rtr3).groups()"
   ]
  },
  {
   "cell_type": "code",
   "execution_count": null,
   "metadata": {
    "collapsed": true
   },
   "outputs": [],
   "source": [
    "CREATE SEQUENCE rtr_parsed_log_id_seq2 ;\n",
    "create table router \n",
    "(\n",
    "    log_id BIGINT default nextval('rtr_parsed_log_id_seq2'),\n",
    "    time timestamp,\n",
    "    reqhost text,\n",
    "    reqstart timestamp,\n",
    "    reqmethodandurl text,\n",
    "    statuscode text,\n",
    "    bytesrecv bigint,\n",
    "    bytessent text,\n",
    "    referer text,\n",
    "    uagent text,\n",
    "    sourceaddress inet,\n",
    "    sourceport int,\n",
    "    remoteaddress inet,\n",
    "    remoteport int,\n",
    "    xforwardedfor text,\n",
    "    xforwardprotocol text,\n",
    "    vcapreq text,\n",
    "    resptime float,\n",
    "    app_id text,\n",
    "    appindex smallint,\n",
    "    x_b3_traceid text,\n",
    "    x_b3_spanid text,\n",
    "    x_b3_parentspanid text,\n",
    "    messagetype char(3),\n",
    "    sourcetype char(3),\n",
    "    sourceinstance smallint,  \n",
    "    appid text,\n",
    "    traceid text,\n",
    "    spanid text\n",
    ") \n",
    "with (appendonly=true, compresstype=zlib, compresslevel=5, orientation=column)\n",
    "distributed randomly;\n",
    "\n",
    "COPY router (time, reqhost, reqstart, reqmethodandurl, statuscode, \\\n",
    "             bytesrecv, bytessent, referer, uagent, sourceaddress, \\\n",
    "             sourceport, remoteaddress,  remoteport, xforwardedfor, \\\n",
    "             xforwardprotocol, vcapreq, resptime, app_id, appindex, \\\n",
    "             x_b3_traceid, x_b3_spanid, x_b3_parentspanid, messagetype, \\\n",
    "             sourcetype, sourceinstance, appid, traceid, spanid) from stdin CSV\n",
    "\n",
    "\n",
    "create external table ext_router \n",
    "(\n",
    "    time bigint,\n",
    "    reqhost text,\n",
    "    reqstart timestamp,\n",
    "    reqmethodandurl text,\n",
    "    statuscode text,\n",
    "    bytesrecv bigint,\n",
    "    bytessent text,\n",
    "    referer text,\n",
    "    uagent text,\n",
    "    sourceaddress inet,\n",
    "    sourceport int,\n",
    "    remoteaddress inet,\n",
    "    remoteport int,\n",
    "    xforwardedfor text,\n",
    "    xforwardprotocol text,\n",
    "    vcapreq text,\n",
    "    resptime float,\n",
    "    app_id text,\n",
    "    appindex smallint,\n",
    "    x_b3_traceid text,\n",
    "    x_b3_spanid text,\n",
    "    x_b3_parentspanid text,\n",
    "    messagetype char(3),\n",
    "    sourcetype char(3),\n",
    "    sourceinstance smallint,  \n",
    "    appid text,\n",
    "    traceid text,\n",
    "    spanid text\n",
    ") \n",
    "location ('file://gpdb-sandbox.localdomain/home/gpadmin/pcfLogs/rtr-clean.csv') \n",
    "FORMAT 'CSV' ;\n",
    "\n",
    "\n",
    "INSERT INTO router (time, reqhost, reqstart, reqmethodandurl, statuscode, \n",
    "             bytesrecv, bytessent, referer, uagent, sourceaddress, \n",
    "             sourceport, remoteaddress,  remoteport, xforwardedfor, \n",
    "             xforwardprotocol, vcapreq, resptime, app_id, appindex, \n",
    "             x_b3_traceid, x_b3_spanid, x_b3_parentspanid, messagetype, \n",
    "             sourcetype, sourceinstance, appid, traceid, spanid) \n",
    "(SELECT to_timestamp(time/1000), reqhost, reqstart, reqmethodandurl, statuscode, \n",
    "             bytesrecv, bytessent, referer, uagent, sourceaddress, \n",
    "             sourceport, remoteaddress,  remoteport, xforwardedfor, \n",
    "             xforwardprotocol, vcapreq, resptime, app_id, appindex, \n",
    "             x_b3_traceid, x_b3_spanid, x_b3_parentspanid, messagetype, \n",
    "             sourcetype, sourceinstance, appid, traceid, spanid FROM ext_router); "
   ]
  },
  {
   "cell_type": "code",
   "execution_count": null,
   "metadata": {
    "collapsed": true
   },
   "outputs": [],
   "source": [
    "CREATE SEQUENCE rtr_parsed_log_id_seq2 ;\n",
    "create table routerstream \n",
    "(\n",
    "    id text,\n",
    "    time timestamp,\n",
    "    traceid text,\n",
    "    spanid text,\n",
    "    sourceinstance smallint, \n",
    "    messagetype char(3),\n",
    "    sourcetype char(3),\n",
    "    appid text,\n",
    "    reqhost text,\n",
    "    reqstart timestamp,\n",
    "    reqmethodandurl text,\n",
    "    statuscode text,\n",
    "    bytesrecv bigint,\n",
    "    bytessent text,\n",
    "    referer text,\n",
    "    uagent text,\n",
    "    sourceaddress inet,\n",
    "    sourceport int,\n",
    "    remoteaddress inet,\n",
    "    remoteport int,\n",
    "    xforwardedfor text,\n",
    "    xforwardprotocol text,\n",
    "    vcapreq text,\n",
    "    resptime float,\n",
    "    app_id text,\n",
    "    appindex smallint,\n",
    "    x_b3_traceid text,\n",
    "    x_b3_spanid text,\n",
    "    x_b3_parentspanid text\n",
    "\n",
    ") \n",
    "with (appendonly=true, compresstype=zlib, compresslevel=5, orientation=column)\n",
    "distributed randomly;"
   ]
  },
  {
   "cell_type": "code",
   "execution_count": 28,
   "metadata": {
    "collapsed": false
   },
   "outputs": [
    {
     "data": {
      "text/plain": [
       "('1494439209603',\n",
       " 'Successful remote access by 10.10.66.44:26544',\n",
       " 'OUT',\n",
       " 'SSH',\n",
       " '0',\n",
       " '4c3b8d92-5ce7-4ab1-bf65-1f434e336134')"
      ]
     },
     "execution_count": 28,
     "metadata": {},
     "output_type": "execute_result"
    }
   ],
   "source": [
    "ssh=\\\n",
    "\"\"\"{'date': 1494439209603, 'message': 'Successful remote access by 10.10.66.44:26544', 'messageType': 'OUT', 'sourceType': 'SSH', 'sourceInstance': '0', 'appId': '4c3b8d92-5ce7-4ab1-bf65-1f434e336134'}\"\"\"\n",
    "\n",
    "sshPattern = \"{'[a-z]+': (?P<date>\\d+), '[a-z]+': '(?P<message>[^']*)', '[A-z]+': '(?P<messageType>ERR|OUT)', '[A-z]+': '(?P<sourceType>[A-Z]+)', '[A-z]+': '(?P<sourceInstance>[0-9]+)', '[A-z]+': '(?P<appId>[0-9a-f-]+)'}\" #([^\"]+)\" [a-z_]+:([^ ]+) [a-z_]+:([^ ]+) (.*)'\n",
    "\n",
    "sshM = re.compile(sshPattern)\n",
    "sshM.match(ssh).groups()"
   ]
  },
  {
   "cell_type": "code",
   "execution_count": null,
   "metadata": {
    "collapsed": true
   },
   "outputs": [],
   "source": [
    "CREATE SEQUENCE ssh_parsed_log_id_seq ;\n",
    "create table ssh \n",
    "(\n",
    "    log_id BIGINT default nextval('ssh_parsed_log_id_seq'),\n",
    "    time bigint,\n",
    "    messagestring text,\n",
    "    messagetype char(3),\n",
    "    sourcetype char(3),\n",
    "    sourceinstance smallint,\n",
    "    appid text\n",
    ") \n",
    "with (appendonly=true, compresstype=zlib, compresslevel=5, orientation=column)\n",
    "distributed randomly;\n",
    "\n",
    "COPY ssh (time, messagestring, messagetype, sourcetype, \n",
    "             sourceinstance, appid) from stdin CSV"
   ]
  },
  {
   "cell_type": "code",
   "execution_count": 29,
   "metadata": {
    "collapsed": false
   },
   "outputs": [
    {
     "data": {
      "text/plain": [
       "('1493712139889',\n",
       " 'Successfully destroyed container',\n",
       " 'OUT',\n",
       " 'CELL',\n",
       " '0',\n",
       " '909df83c-d2eb-4bf9-8296-9f88c2e5e716')"
      ]
     },
     "execution_count": 29,
     "metadata": {},
     "output_type": "execute_result"
    }
   ],
   "source": [
    "cell=\\\n",
    "\"\"\"{'date': 1493712139889, 'message': 'Successfully destroyed container', 'messageType': 'OUT', 'sourceType': 'CELL', 'sourceInstance': '0', 'appId': '909df83c-d2eb-4bf9-8296-9f88c2e5e716'}\"\"\"\n",
    "\n",
    "cellPattern = \"{'[a-z]+': (?P<date>\\d+), '[a-z]+': '(?P<message>[^']*)', '[A-z]+': '(?P<messageType>ERR|OUT)', '[A-z]+': '(?P<sourceType>[A-Z]+)', '[A-z]+': '(?P<sourceInstance>[0-9]+)', '[A-z]+': '(?P<appId>[0-9a-f-]+)'}\"\n",
    "\n",
    "cellM = re.compile(cellPattern)\n",
    "cellM.match(cell).groups()"
   ]
  },
  {
   "cell_type": "code",
   "execution_count": null,
   "metadata": {
    "collapsed": true
   },
   "outputs": [],
   "source": [
    "CREATE SEQUENCE diego_cell_parsed_log_id_seq ;\n",
    "create table diego_cell \n",
    "(\n",
    "    log_id BIGINT default nextval('diego_cell_parsed_log_id_seq'),\n",
    "    time bigint,\n",
    "    messagestring text,\n",
    "    messagetype char(3),\n",
    "    sourcetype char(4),\n",
    "    sourceinstance smallint,\n",
    "    appid text\n",
    ") \n",
    "with (appendonly=true, compresstype=zlib, compresslevel=5, orientation=column)\n",
    "distributed randomly;\n",
    "\n",
    "COPY diego_cell (time, messagestring, messagetype, sourcetype, \n",
    "             sourceinstance, appid) from stdin CSV"
   ]
  },
  {
   "cell_type": "code",
   "execution_count": 174,
   "metadata": {
    "collapsed": false
   },
   "outputs": [],
   "source": [
    "cols=\"\"\"\\\n",
    "    time bigint,\n",
    "    reqhost text,\n",
    "    reqstart timestamp,\n",
    "    reqmethodandurl text,\n",
    "    statuscode int,\n",
    "    bytesrecv bigint,\n",
    "    bytessent text,\n",
    "    referer text,\n",
    "    uagent text,\n",
    "    sourceaddress inet,\n",
    "    sourceport smallint,\n",
    "    remoteaddress inet,\n",
    "    remoteport smallint,\n",
    "    xforwardedfor text,\n",
    "    xforwardprotocol text,\n",
    "    vcapreq text,\n",
    "    resptime float,\n",
    "    app_id text,\n",
    "    appindex smallint,\n",
    "    x_b3_traceid text,\n",
    "    x_b3_spanid text,\n",
    "    x_b3_parentspanid text,\n",
    "    messagetype char(3),\n",
    "    sourcetype char(3),\n",
    "    sourceinstance smallint,  \n",
    "    appid text,\n",
    "    traceid text,\n",
    "    spanid text\n",
    "\"\"\".split(\",\")"
   ]
  },
  {
   "cell_type": "code",
   "execution_count": 175,
   "metadata": {
    "collapsed": false
   },
   "outputs": [
    {
     "data": {
      "text/plain": [
       "28"
      ]
     },
     "execution_count": 175,
     "metadata": {},
     "output_type": "execute_result"
    }
   ],
   "source": [
    "len(cols)"
   ]
  },
  {
   "cell_type": "code",
   "execution_count": null,
   "metadata": {
    "collapsed": true
   },
   "outputs": [],
   "source": []
  }
 ],
 "metadata": {
  "kernelspec": {
   "display_name": "Python [Root]",
   "language": "python",
   "name": "Python [Root]"
  },
  "language_info": {
   "codemirror_mode": {
    "name": "ipython",
    "version": 3
   },
   "file_extension": ".py",
   "mimetype": "text/x-python",
   "name": "python",
   "nbconvert_exporter": "python",
   "pygments_lexer": "ipython3",
   "version": "3.6.0"
  }
 },
 "nbformat": 4,
 "nbformat_minor": 2
}
