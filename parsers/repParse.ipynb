{
 "cells": [
  {
   "cell_type": "markdown",
   "metadata": {},
   "source": [
    "```\n",
    "<13>2017-05-10T01:01:11.393716+00:00 10.10.148.32 vcap.rep [job=cell_z2 index=8]  \n",
    "{\n",
    "\t\"timestamp\": \"1494378071.393580198\",\n",
    "\t\"source\": \"rep\",\n",
    "\t\"message\": \"rep.executing-container-operation.ordinary-lrp-processor.process-reserved-container.run-container.containerstore-run.node-run.monitor-run.run-step.running\",\n",
    "\t\"log_level\": 1,\n",
    "\t\"data\": {\n",
    "\t\t\"container-guid\": \"fa70897c-daf5-4663-7bd3-5830\",\n",
    "\t\t\"container-state\": \"reserved\",\n",
    "\t\t\"guid\": \"fa70897c-daf5-4663-7bd3-5830\",\n",
    "\t\t\"lrp-instance-key\": {\n",
    "\t\t\t\"instance_guid\": \"fa70897c-daf5-4663-7bd3-5830\",\n",
    "\t\t\t\"cell_id\": \"21102489-f15b-494d-a6f1-9f3d4c9054e1\"\n",
    "\t\t},\n",
    "\t\t\"lrp-key\": {\n",
    "\t\t\t\"process_guid\": \"b34c15ff-2101-4c8e-a331-b8d8fb45e803-c77f644a-d780-4527-bae3-eb50dfbe7784\",\n",
    "\t\t\t\"index\": 0,\n",
    "\t\t\t\"domain\": \"cf-apps\"\n",
    "\t\t},\n",
    "\t\t\"session\": \"136.1.1.3.3.1.621.1\"\n",
    "\t}\n",
    "}\n",
    "```           "
   ]
  },
  {
   "cell_type": "code",
   "execution_count": 2,
   "metadata": {
    "collapsed": true
   },
   "outputs": [],
   "source": [
    "import re\n",
    "\n",
    "rep1 = \"\"\"\\\n",
    "<13>2017-04-27T04:42:58.104581+00:00 10.10.148.71 vcap.rep [job=cell_z2 index=80]  {\"timestamp\":\"1493268178.104477644\",\"source\":\"rep\",\"message\":\"rep.executing-container-operation.ordinary-lrp-processor.process-reserved-container.run-container.containerstore-run.node-run.monitor-run.run-step.running\",\"log_level\":1,\"data\":{\"container-guid\":\"5b1c3beb-94c5-4ae5-46ec-03b34642cb54\",\"container-state\":\"reserved\",\"guid\":\"5b1c3beb-94c5-4ae5-46ec-03b34642cb54\",\"lrp-instance-key\":{\"instance_guid\":\"5b1c3beb-94c5-4ae5-46ec-03b34642cb54\",\"cell_id\":\"a5dcc855-640c-4a0c-926c-040a5fc751c0\"},\"lrp-key\":{\"process_guid\":\"cb4e5b58-885b-4570-80e3-d629ec2803bd-2c0c1845-cdce-4bab-aeb1-8503d691b388\",\"index\":0,\"domain\":\"cf-apps\"},\"session\":\"550.1.1.3.3.1.3918.1\"}}\"\"\"\n",
    "\n",
    "rep2 = \"\"\"\\\n",
    "<13>2017-05-08T06:16:47.124149+00:00 10.10.147.73 vcap.rep [job=cell_z1 index=45]  {\"timestamp\":\"1494224207.123978853\",\"source\":\"rep\",\"message\":\"rep.executing-container-operation.ordinary-lrp-processor.process-reserved-container.run-container.containerstore-run.node-run.monitor-run.run-step.process-exit\",\"log_level\":1,\"data\":{\"cancelled\":false,\"container-guid\":\"b14c2d3d-4233-474d-61c3-7edf\",\"container-state\":\"reserved\",\"exitStatus\":0,\"guid\":\"b14c2d3d-4233-474d-61c3-7edf\",\"lrp-instance-key\":{\"instance_guid\":\"b14c2d3d-4233-474d-61c3-7edf\",\"cell_id\":\"8c01b74e-f328-4dba-93ea-9043e5068b3d\"},\"lrp-key\":{\"process_guid\":\"9c44db72-3742-4ddd-836b-3bafdfb27808-3e7a340c-5650-4919-bf78-3f20023f75be\",\"index\":0,\"domain\":\"cf-apps\"},\"process\":\"0101503c-63eb-45fe-671e-6fb1f5faa94b\",\"session\":\"96.1.1.3.3.1.9556.1\"}}\"\"\"\n",
    "\n",
    "lgBasePattern = '\\<(\\d+)\\>([^ ]+) ([^ ]+) ([^ ]+) \\[([^\\]]+)+\\]' \n",
    "lgExtended = '{\"timestamp\":\"?([\\d.]+)\"?\\,\"source\":\"([^\"]+)\"\\,\"message\":\"([^\"]+)\"\\,\"log_level\":\"?([^\"]+)\"?\\,'\n",
    "repKeyValue = '\"data\":(.*)}'\n",
    "\n",
    "\n",
    "pat = lgBasePattern + \"  \" + lgExtended + repKeyValue\n"
   ]
  },
  {
   "cell_type": "code",
   "execution_count": 3,
   "metadata": {
    "collapsed": false
   },
   "outputs": [
    {
     "data": {
      "text/plain": [
       "('13',\n",
       " '2017-05-08T06:16:47.124149+00:00',\n",
       " '10.10.147.73',\n",
       " 'vcap.rep',\n",
       " 'job=cell_z1 index=45',\n",
       " '1494224207.123978853',\n",
       " 'rep',\n",
       " 'rep.executing-container-operation.ordinary-lrp-processor.process-reserved-container.run-container.containerstore-run.node-run.monitor-run.run-step.process-exit',\n",
       " '1',\n",
       " '{\"cancelled\":false,\"container-guid\":\"b14c2d3d-4233-474d-61c3-7edf\",\"container-state\":\"reserved\",\"exitStatus\":0,\"guid\":\"b14c2d3d-4233-474d-61c3-7edf\",\"lrp-instance-key\":{\"instance_guid\":\"b14c2d3d-4233-474d-61c3-7edf\",\"cell_id\":\"8c01b74e-f328-4dba-93ea-9043e5068b3d\"},\"lrp-key\":{\"process_guid\":\"9c44db72-3742-4ddd-836b-3bafdfb27808-3e7a340c-5650-4919-bf78-3f20023f75be\",\"index\":0,\"domain\":\"cf-apps\"},\"process\":\"0101503c-63eb-45fe-671e-6fb1f5faa94b\",\"session\":\"96.1.1.3.3.1.9556.1\"}')"
      ]
     },
     "execution_count": 3,
     "metadata": {},
     "output_type": "execute_result"
    }
   ],
   "source": [
    "m = re.compile(pat)\n",
    "m.match(rep2).groups()"
   ]
  },
  {
   "cell_type": "code",
   "execution_count": null,
   "metadata": {
    "collapsed": true
   },
   "outputs": [],
   "source": []
  }
 ],
 "metadata": {
  "kernelspec": {
   "display_name": "Python [Root]",
   "language": "python",
   "name": "Python [Root]"
  },
  "language_info": {
   "codemirror_mode": {
    "name": "ipython",
    "version": 3
   },
   "file_extension": ".py",
   "mimetype": "text/x-python",
   "name": "python",
   "nbconvert_exporter": "python",
   "pygments_lexer": "ipython3",
   "version": "3.6.0"
  }
 },
 "nbformat": 4,
 "nbformat_minor": 2
}
