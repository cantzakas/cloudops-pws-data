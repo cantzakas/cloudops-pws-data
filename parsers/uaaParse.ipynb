{
 "cells": [
  {
   "cell_type": "markdown",
   "metadata": {},
   "source": [
    "```\n",
    "\n",
    "<14>2017-05-15T00:00:00.676130+00:00 10.10.81.0 vcap.uaa [job=uaa_z2 index=0]  \n",
    "[2017-05-15 00:00:00.676] uaa - 20982 [http-nio-8080-exec-30] ....  INFO --- Audit: UserAuthenticationSuccess ('Broadiq.assist@gmail.com'): principal=dabbba3e-e8f8-480d-ac6b-06b36c0d3c16, origin=[remoteAddress=65.100.136.110, clientId=cf], identityZoneId=[uaa]\n",
    "\n",
    "<14>2017-05-16T06:28:23.576064+00:00 10.10.81.30 vcap.uaa [job=uaa_z2 index=1]  \n",
    "[2017-05-16 06:28:23.575] uaa - 18597 [http-nio-8080-exec-1] ....  INFO --- Audit: ClientAuthenticationSuccess ('Client authentication success'): principal=p-service-registry-e8ff6471-0e82-4f16-a7d5-225d3222ab5a, origin=[remoteAddress=54.89.243.245, clientId=p-service-registry-e8ff6471-0e82-4f16-a7d5-225d3222ab5a], identityZoneId=[049fb3f8-f976-45a4-9ea3-004d456d4e38]\n",
    "\n",
    "<14>2017-05-13T07:10:21.723140+00:00 10.10.81.30 vcap.uaa [job=uaa_z2 index=1]  \n",
    "[2017-05-13 07:10:21.723] uaa - 18597 [http-nio-8080-exec-5] ....  INFO --- Audit: TokenIssuedEvent ('[\"p-service-registry.10d273bd-ef25-46ec-b72b-f986bb3f68c0.write\",\"p-service-registry.10d273bd-ef25-46ec-b72b-f986bb3f68c0.read\"]'): principal=p-service-registry-ac8b6b05-5402-4787-8919-21ee3acc1c82, origin=[caller=p-service-registry-ac8b6b05-5402-4787-8919-21ee3acc1c82, details=(remoteAddress=54.88.175.254, clientId=p-service-registry-ac8b6b05-5402-4787-8919-21ee3acc1c82)], identityZoneId=[049fb3f8-f976-45a4-9ea3-004d456d4e38]\n",
    "\n",
    "<14>2017-05-03T06:23:33.251250+00:00 10.10.81.30 vcap.uaa [job=uaa_z2 index=1]\n",
    "[2017-05-03 06:23:33.251] uaa - 18424 [http-nio-8080-exec-5] ....  INFO --- Audit: ClientAuthenticationFailure ('Bad credentials'): principal=p-service-registry-ec475172-4a96-4870-afc4-c98cbafd3f88, origin=[remoteAddress=54.173.249.229, clientId=p-service-registry-ec475172-4a96-4870-afc4-c98cbafd3f88], identityZoneId=[049fb3f8-f976-45a4-9ea3-004d456d4e38]\n",
    "\n",
    "<14>2017-05-03T06:21:02.415908+00:00 10.10.17.7 vcap.uaa [job=uaa_z1 index=0]\n",
    "[2017-05-03 06:21:02.415] uaa - 22711 [http-nio-8080-exec-14] ....  INFO --- Audit: PrincipalAuthenticationFailure ('null'): principal=p-service-registry-ec475172-4a96-4870-afc4-c98cbafd3f88, origin=[54.173.249.229], identityZoneId=[049fb3f8-f976-45a4-9ea3-004d456d4e38]\n",
    "\n",
    "<11>2017-05-08T08:42:24.693363+00:00 10.10.81.30 vcap.uaa [job=uaa_z2 index=1]\n",
    "at org.cloudfoundry.identity.uaa.web.RecognizeFailureDispatcherServlet.service(RecognizeFailureDispatcherServlet.java:74)\n",
    "\n",
    "<14>2017-05-09T00:00:05.907052+00:00 10.10.17.7 vcap.uaa [job=uaa_z1 index=0]  \n",
    "[2017-05-09 00:00:05.906] uaa - 22717 [http-nio-8080-exec-11] ....  INFO --- Audit: UserAuthenticationFailure ('padarabinda.panigrahi@cognizant.com'): principal=01257a69-1251-4a70-8725-79337e217724, origin=[remoteAddress=175.41.176.216, clientId=cf], identityZoneId=[uaa]\n",
    "```"
   ]
  },
  {
   "cell_type": "code",
   "execution_count": 3,
   "metadata": {
    "collapsed": true
   },
   "outputs": [],
   "source": [
    "import re"
   ]
  },
  {
   "cell_type": "code",
   "execution_count": 62,
   "metadata": {
    "collapsed": false
   },
   "outputs": [],
   "source": [
    "uaa1 = \"\"\"\\\n",
    "<14>2017-05-09T00:00:00.449585+00:00 10.10.17.7 vcap.uaa [job=uaa_z1 index=0]  [2017-05-09 00:00:00.449] uaa - 22717 [http-nio-8080-exec-12] ....  INFO --- Audit: TokenIssuedEvent ('[\"cloud_controller.read\",\"cloud_controller.write\",\"uaa.resource\",\"cloud_controller.admin\"]'): principal=scheduler_taskrunner, origin=[caller=scheduler_taskrunner, details=(remoteAddress=204.236.195.111, clientId=scheduler_taskrunner)], identityZoneId=[uaa]\"\"\"\n",
    "\n",
    "uaa2 = \"\"\"\\\n",
    "<11>2017-05-08T08:42:24.693363+00:00 10.10.81.30 vcap.uaa [job=uaa_z2 index=1]  at org.cloudfoundry.identity.uaa.web.RecognizeFailureDispatcherServlet.service(RecognizeFailureDispatcherServlet.java:74)\"\"\"\n",
    "\n",
    "uaa3 = \"\"\"\\\n",
    "<14>2017-05-09T00:00:00.449585+00:00 10.10.17.7 vcap.uaa [job=uaa_z1 index=0]  [2017-05-09 00:00:00.449] uaa - 22717 [http-nio-8080-exec-12] ....  INFO --- Audit: \"TokenIssuedEvent ('[\"cloud_controller.read\",\"cloud_controller.write\",\"uaa.resource\",\"cloud_controller.admin\"]'):\" principal=p-service-registry-f884a218-bdb9-4e71-810f-d38b6e47f0c2, origin=[caller=p-service-registry-f884a218-bdb9-4e71-810f-d38b6e47f0c2, details=(remoteAddress=54.84.180.105, clientId=p-service-registry-f884a218-bdb9-4e71-810f-d38b6e47f0c2)], identityZoneId=[049fb3f8-f976-45a4-9ea3-004d456d4e38]\"\"\"\n",
    "\n",
    "# Audit Event Types:\n",
    "types = ['ClientAuthenticationFailure',\n",
    "'ClientAuthenticationSuccess',\n",
    "'ClientDeleteSuccess',\n",
    "'Handling',\n",
    "'Login',\n",
    "'PrincipalAuthenticationFailure',\n",
    "'TokenIssuedEvent',\n",
    "'UserAuthenticationSuccess',\n",
    "'Java stacktrace strings' ]\n",
    "\n",
    "lgBasePattern = '\\<(\\d+)\\>([^ ]+) ([^ ]+) ([^ ]+) \\[([^\\]]+)+\\]';\n",
    "uaaTimestamp = '  (?:\\[([^\\]]+)+\\] uaa \\- \\d+ \\[([^\\]]+)+\\] \\.\\.\\.\\.  ([A-Z]+) \\-\\-\\- Audit: )?'\n",
    "eventType = '\"?({0})? ?'.format(\"|\".join(types))\n",
    "entitlements = '\\(?\\'?\\[?([^\\] ]+)?\\]?\\'?\\)?\\:?\"?'\n",
    "principal = '(?: principal\\=([^,]+),)?'\n",
    "origin = '(?: origin\\=\\[([^\\]]+)\\])?'\n",
    "identityZone = '(?:\\, identityZoneId\\=\\[([^\\]]+)\\])?'\n",
    "catchAll = '([^$]+)?'\n",
    "\n",
    "pat = lgBasePattern + uaaTimestamp + eventType + entitlements + principal + origin + identityZone + catchAll"
   ]
  },
  {
   "cell_type": "code",
   "execution_count": 68,
   "metadata": {
    "collapsed": false
   },
   "outputs": [
    {
     "name": "stdout",
     "output_type": "stream",
     "text": [
      "\\<(\\d+)\\>([^ ]+) ([^ ]+) ([^ ]+) \\[([^\\]]+)+\\]  (?:\\[([^\\]]+)+\\] uaa \\- \\d+ \\[([^\\]]+)+\\] \\.\\.\\.\\.  ([A-Z]+) \\-\\-\\- Audit: )?\"?(ClientAuthenticationFailure|ClientAuthenticationSuccess|ClientDeleteSuccess|Handling|Login|PrincipalAuthenticationFailure|TokenIssuedEvent|UserAuthenticationSuccess|Java stacktrace strings)? ?\\(?'?\\[?([^\\] ]+)?\\]?'?\\)?\\:?\"?(?: principal\\=([^,]+),)?(?: origin\\=\\[([^\\]]+)\\])?(?:\\, identityZoneId\\=\\[([^\\]]+)\\])?([^$]+)?\n"
     ]
    }
   ],
   "source": [
    "print(pat)"
   ]
  },
  {
   "cell_type": "code",
   "execution_count": 65,
   "metadata": {
    "collapsed": false
   },
   "outputs": [
    {
     "data": {
      "text/plain": [
       "('14',\n",
       " '2017-05-09T00:00:00.449585+00:00',\n",
       " '10.10.17.7',\n",
       " 'vcap.uaa',\n",
       " 'job=uaa_z1 index=0',\n",
       " '2017-05-09 00:00:00.449',\n",
       " 'http-nio-8080-exec-12',\n",
       " 'INFO',\n",
       " 'TokenIssuedEvent',\n",
       " '\"cloud_controller.read\",\"cloud_controller.write\",\"uaa.resource\",\"cloud_controller.admin\"',\n",
       " 'scheduler_taskrunner',\n",
       " 'caller=scheduler_taskrunner, details=(remoteAddress=204.236.195.111, clientId=scheduler_taskrunner)',\n",
       " 'uaa',\n",
       " None)"
      ]
     },
     "execution_count": 65,
     "metadata": {},
     "output_type": "execute_result"
    }
   ],
   "source": [
    "\n",
    "\n",
    "m = re.compile(pat)\n",
    "m.match(uaa1).groups()\n",
    "\n"
   ]
  },
  {
   "cell_type": "code",
   "execution_count": 64,
   "metadata": {
    "collapsed": false
   },
   "outputs": [
    {
     "data": {
      "text/plain": [
       "('11',\n",
       " '2017-05-08T08:42:24.693363+00:00',\n",
       " '10.10.81.30',\n",
       " 'vcap.uaa',\n",
       " 'job=uaa_z2 index=1',\n",
       " None,\n",
       " None,\n",
       " None,\n",
       " None,\n",
       " 'at',\n",
       " None,\n",
       " None,\n",
       " None,\n",
       " ' org.cloudfoundry.identity.uaa.web.RecognizeFailureDispatcherServlet.service(RecognizeFailureDispatcherServlet.java:74)')"
      ]
     },
     "execution_count": 64,
     "metadata": {},
     "output_type": "execute_result"
    }
   ],
   "source": [
    "m.match(uaa2).groups()"
   ]
  },
  {
   "cell_type": "code",
   "execution_count": 66,
   "metadata": {
    "collapsed": false
   },
   "outputs": [
    {
     "data": {
      "text/plain": [
       "('14',\n",
       " '2017-05-09T00:00:00.449585+00:00',\n",
       " '10.10.17.7',\n",
       " 'vcap.uaa',\n",
       " 'job=uaa_z1 index=0',\n",
       " '2017-05-09 00:00:00.449',\n",
       " 'http-nio-8080-exec-12',\n",
       " 'INFO',\n",
       " 'TokenIssuedEvent',\n",
       " '\"cloud_controller.read\",\"cloud_controller.write\",\"uaa.resource\",\"cloud_controller.admin\"',\n",
       " 'p-service-registry-f884a218-bdb9-4e71-810f-d38b6e47f0c2',\n",
       " 'caller=p-service-registry-f884a218-bdb9-4e71-810f-d38b6e47f0c2, details=(remoteAddress=54.84.180.105, clientId=p-service-registry-f884a218-bdb9-4e71-810f-d38b6e47f0c2)',\n",
       " '049fb3f8-f976-45a4-9ea3-004d456d4e38',\n",
       " None)"
      ]
     },
     "execution_count": 66,
     "metadata": {},
     "output_type": "execute_result"
    }
   ],
   "source": [
    "m.match(uaa3).groups()"
   ]
  },
  {
   "cell_type": "code",
   "execution_count": 8,
   "metadata": {
    "collapsed": true
   },
   "outputs": [],
   "source": [
    "testStr = 'TokenIssuedEvent (\\'[\"cloud_controller.read\",\"cloud_controller.write\",\"uaa.resource\",\"cloud_controller.admin\"]\\'):'"
   ]
  },
  {
   "cell_type": "code",
   "execution_count": 61,
   "metadata": {
    "collapsed": false
   },
   "outputs": [
    {
     "data": {
      "text/plain": [
       "('\"cloud_controller.read\",\"cloud_controller.write\",\"uaa.resource\",\"cloud_controller.admin\"',)"
      ]
     },
     "execution_count": 61,
     "metadata": {},
     "output_type": "execute_result"
    }
   ],
   "source": [
    "entitlements = '[^\\(]*\\(?\\'?\\[?([^\\] ]+)?\\]?\\'?\\)?.*'\n",
    "m2 = re.compile(entitlements)\n",
    "\n",
    "\n",
    "m2.match(testStr).groups()"
   ]
  },
  {
   "cell_type": "code",
   "execution_count": null,
   "metadata": {
    "collapsed": true
   },
   "outputs": [],
   "source": []
  },
  {
   "cell_type": "code",
   "execution_count": null,
   "metadata": {
    "collapsed": true
   },
   "outputs": [],
   "source": []
  }
 ],
 "metadata": {
  "kernelspec": {
   "display_name": "Python [Root]",
   "language": "python",
   "name": "Python [Root]"
  },
  "language_info": {
   "codemirror_mode": {
    "name": "ipython",
    "version": 3
   },
   "file_extension": ".py",
   "mimetype": "text/x-python",
   "name": "python",
   "nbconvert_exporter": "python",
   "pygments_lexer": "ipython3",
   "version": "3.6.0"
  }
 },
 "nbformat": 4,
 "nbformat_minor": 2
}
