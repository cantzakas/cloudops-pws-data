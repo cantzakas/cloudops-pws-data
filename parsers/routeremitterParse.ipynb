{
 "cells": [
  {
   "cell_type": "markdown",
   "metadata": {},
   "source": [
    "```\n",
    "<14>2017-05-19T00:24:54.421247+00:00 10.10.147.78 vcap.route-emitter [job=cell_z1 index=74]  \n",
    "{\n",
    "\t\"timestamp\": \"1495153494.421171665\",\n",
    "\t\"source\": \"route-emitter\",\n",
    "\t\"message\": \"route-emitter.watcher.handling-event.handling-desired-delete.complete\",\n",
    "\t\"log_level\": 1,\n",
    "\t\"data\": {\n",
    "\t\t\"instances\": 1,\n",
    "\t\t\"process-guid\": \"2d8b51a3-57b5-4541-ae15-4741e80162d0-c5f76953-9370-49e8-b931-cc511a39fa22\",\n",
    "\t\t\"routes\": {\n",
    "\t\t\t\"cf-router\": [{\n",
    "\t\t\t\t\"hostnames\": [\"client-staging-blue.cfapps.io\"],\n",
    "\t\t\t\t\"port\": 8080,\n",
    "\t\t\t\t\"router_group_guid\": null,\n",
    "\t\t\t\t\"route_service_url\": null\n",
    "\t\t\t}, {\n",
    "\t\t\t\t\"hostnames\": [\"client-staging.cfapps.io\"],\n",
    "\t\t\t\t\"port\": 8080,\n",
    "\t\t\t\t\"router_group_guid\": null,\n",
    "\t\t\t\t\"route_service_url\": null\n",
    "\t\t\t}, {\n",
    "\t\t\t\t\"hostnames\": [\"text-staging.cfapps.io\"],\n",
    "\t\t\t\t\"port\": 8080,\n",
    "\t\t\t\t\"router_group_guid\": null,\n",
    "\t\t\t\t\"route_service_url\": null\n",
    "\t\t\t}, {\n",
    "\t\t\t\t\"hostnames\": [\"text-staging.reelsecurity.com\"],\n",
    "\t\t\t\t\"port\": 8080,\n",
    "\t\t\t\t\"router_group_guid\": null,\n",
    "\t\t\t\t\"route_service_url\": null\n",
    "\t\t\t}, {\n",
    "\t\t\t\t\"hostnames\": [\"projects-staging.reelsecurity.com\"],\n",
    "\t\t\t\t\"port\": 8080,\n",
    "\t\t\t\t\"router_group_guid\": null,\n",
    "\t\t\t\t\"route_service_url\": null\n",
    "\t\t\t}],\n",
    "\t\t\t\"tcp-router\": []\n",
    "\t\t},\n",
    "\t\t\"session\": \"5.103307.1\"\n",
    "\t}\n",
    "}\n",
    "```"
   ]
  },
  {
   "cell_type": "code",
   "execution_count": 2,
   "metadata": {
    "collapsed": true
   },
   "outputs": [],
   "source": [
    "import re"
   ]
  },
  {
   "cell_type": "code",
   "execution_count": 15,
   "metadata": {
    "collapsed": true
   },
   "outputs": [],
   "source": [
    "rtrem = \"\"\"\\\n",
    "<14>2017-05-19T00:24:54.421247+00:00 10.10.147.78 vcap.route-emitter [job=cell_z1 index=74]  {\"timestamp\":\"1495153494.421171665\",\"source\":\"route-emitter\",\"message\":\"route-emitter.watcher.handling-event.handling-desired-delete.complete\",\"log_level\":1,\"data\":{\"instances\":1,\"process-guid\":\"2d8b51a3-57b5-4541-ae15-4741e80162d0-c5f76953-9370-49e8-b931-cc511a39fa22\",\"routes\":{\"cf-router\":[{\"hostnames\":[\"client-staging-blue.cfapps.io\"],\"port\":8080,\"router_group_guid\":null,\"route_service_url\":null},{\"hostnames\":[\"client-staging.cfapps.io\"],\"port\":8080,\"router_group_guid\":null,\"route_service_url\":null},{\"hostnames\":[\"text-staging.cfapps.io\"],\"port\":8080,\"router_group_guid\":null,\"route_service_url\":null},{\"hostnames\":[\"text-staging.reelsecurity.com\"],\"port\":8080,\"router_group_guid\":null,\"route_service_url\":null},{\"hostnames\":[\"projects-staging.reelsecurity.com\"],\"port\":8080,\"router_group_guid\":null,\"route_service_url\":null}],\"tcp-router\":[]},\"session\":\"5.103307.1\"}}\"\"\"\n",
    "\n",
    "lgBasePattern = '\\<(\\d+)\\>([^ ]+) ([^ ]+) ([^ ]+) \\[([^\\]]+)+\\]' \n",
    "lgExtended = '{\"timestamp\":\"?([\\d.]+)\"?\\,\"source\":\"([^\"]+)\"\\,\"message\":\"([^\"]+)\"\\,\"log_level\":\"?([^\"]+)\"?\\,'\n",
    "nestedKv = '\"data\":\\{(.*)\\}\\}'\n",
    "\n",
    "pat = lgBasePattern + \"  \" + lgExtended + nestedKv "
   ]
  },
  {
   "cell_type": "code",
   "execution_count": 16,
   "metadata": {
    "collapsed": false
   },
   "outputs": [
    {
     "data": {
      "text/plain": [
       "('14',\n",
       " '2017-05-19T00:24:54.421247+00:00',\n",
       " '10.10.147.78',\n",
       " 'vcap.route-emitter',\n",
       " 'job=cell_z1 index=74',\n",
       " '1495153494.421171665',\n",
       " 'route-emitter',\n",
       " 'route-emitter.watcher.handling-event.handling-desired-delete.complete',\n",
       " '1',\n",
       " '\"instances\":1,\"process-guid\":\"2d8b51a3-57b5-4541-ae15-4741e80162d0-c5f76953-9370-49e8-b931-cc511a39fa22\",\"routes\":{\"cf-router\":[{\"hostnames\":[\"client-staging-blue.cfapps.io\"],\"port\":8080,\"router_group_guid\":null,\"route_service_url\":null},{\"hostnames\":[\"client-staging.cfapps.io\"],\"port\":8080,\"router_group_guid\":null,\"route_service_url\":null},{\"hostnames\":[\"text-staging.cfapps.io\"],\"port\":8080,\"router_group_guid\":null,\"route_service_url\":null},{\"hostnames\":[\"text-staging.reelsecurity.com\"],\"port\":8080,\"router_group_guid\":null,\"route_service_url\":null},{\"hostnames\":[\"projects-staging.reelsecurity.com\"],\"port\":8080,\"router_group_guid\":null,\"route_service_url\":null}],\"tcp-router\":[]},\"session\":\"5.103307.1\"')"
      ]
     },
     "execution_count": 16,
     "metadata": {},
     "output_type": "execute_result"
    }
   ],
   "source": [
    "m = re.compile(pat)\n",
    "m.match(rtrem).groups()"
   ]
  },
  {
   "cell_type": "code",
   "execution_count": null,
   "metadata": {
    "collapsed": true
   },
   "outputs": [],
   "source": []
  }
 ],
 "metadata": {
  "kernelspec": {
   "display_name": "Python [Root]",
   "language": "python",
   "name": "Python [Root]"
  },
  "language_info": {
   "codemirror_mode": {
    "name": "ipython",
    "version": 3
   },
   "file_extension": ".py",
   "mimetype": "text/x-python",
   "name": "python",
   "nbconvert_exporter": "python",
   "pygments_lexer": "ipython3",
   "version": "3.6.0"
  }
 },
 "nbformat": 4,
 "nbformat_minor": 2
}
