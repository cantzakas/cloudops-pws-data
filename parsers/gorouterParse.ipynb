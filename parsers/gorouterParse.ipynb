{
 "cells": [
  {
   "cell_type": "code",
   "execution_count": 16,
   "metadata": {
    "collapsed": false
   },
   "outputs": [],
   "source": [
    "import re\n",
    "\n",
    "\"\"\"\n",
    "<Request Host> - [<Start Date>] \"<Request Method> <Request URL> <Request Protocol>\" <Status Code> <Bytes Received> <Bytes Sent> \"<Referer>\" \"<User-Agent>\" <Remote Address> \n",
    "x_forwarded_for:\"<X-Forwarded-For>\" x_forwarded_proto:\"<X-Forwarded-Proto>\" vcap_request_id:<X-Vcap-Request-ID> response_time:<Response Time> app_id:<Application ID> <Extra Headers>\n",
    "\"\"\";\n",
    "\n",
    "lgPattern = \"\\<(\\d+)\\>([^ ]+) ([^ ]+) ([^ ]+) \\[([^\\]]+)+\\]\"\n",
    "\n",
    "#                      hostname   time             request   \n",
    "goRouterBasePattern = '([^ ]+) - \\[([0-9T:.+-]+)\\] \"(.+ HTTP\\/1\\.1)\" \"?([\\d-]+)\"? (\\d+) (\\d+) \"([^\"]+)\" \"([0-9\\.]+):([\\d]+)\" \"([0-9\\.]+):([\\d]+)\" \"([^\"]+)\"'\n",
    "goRouterKvPattern = '[a-z_]+:\"([^\"]+)\" [a-z_]+:\"([^\"]+)\" [a-z_]+:\"([^\"]+)\" [a-z_]+:([^ ]+) [a-z_]+:([^ ]+) (.*)'\n",
    "\n",
    "\n",
    "pat = lgPattern + \"  \" + goRouterBasePattern + \" \" + goRouterKvPattern\n",
    "grtest = '([^ ]+) - '\n",
    "\n",
    "lSample = \"<6>2017-04-21T09:15:43.107185+00:00 10.10.81.6 vcap.gorouter [job=router_z2 index=2]\"\n",
    "\n",
    "fullsample = \"\"\"\\\n",
    "<6>2017-04-21T09:15:43.107185+00:00 10.10.81.6 vcap.gorouter [job=router_z2 index=2]  login.run.pivotal.io - [2017-04-21T09:15:43.089+0000] \"POST /oauth/token HTTP/1.1\" 200 29 1549 \"-\" \"Ruby\" \"10.10.66.114:56583\" \"10.10.81.30:8080\" x_forwarded_for:\"54.210.10.202\" x_forwarded_proto:\"https\" vcap_request_id:\"dc80201f-29c8-44cb-6c8e-ddc2c4f7bcd6\" response_time:0.018057238 app_id:\"-\" app_index:\"-\" x_b3_traceid:\"c2b37a87dbf533ae\" x_b3_spanid:\"c2b37a87dbf533ae\" x_b3_parentspanid:\"-\"\n",
    "\"\"\"\n",
    "\n",
    "fs2 = \"\"\"\\\n",
    "<6>2017-04-26T00:03:18.295812+00:00 10.10.81.9 vcap.gorouter [job=router_z2 index=3]  dogate-tracker-aws.cfapps.io - [2017-04-26T00:03:18.266+0000] \"POST /api/v1/series?api_key=80adce40484093449d60d6e76a5dae92 HTTP/1.1\" 200 292 0 \"-\" \"Ruby\" \"10.10.66.97:42773\" \"10.10.148.96:61013\" x_forwarded_for:\"52.89.159.192\" x_forwarded_proto:\"https\" vcap_request_id:\"bc4fb926-ee40-4aaa-7963-b7d8616d8b36\" response_time:0.029437206 app_id:\"6d13de12-6479-476e-b4a8-b7aa0d98127a\" app_index:\"0\" x_b3_traceid:\"80939612ff51224d\" x_b3_spanid:\"80939612ff51224d\" x_b3_parentspanid:\"-\"\n",
    "\"\"\"\n",
    "\n",
    "fs3 =\\\n",
    "\"\"\"\\\n",
    "<6>2017-05-02T10:39:13.984285+00:00 10.10.81.5 vcap.gorouter [job=router_z2 index=4]  portal.europeana.eu - [2017-05-02T10:39:13.973+0000] \"GET /portal/record/2020704/DR_20284776.html HTTP/1.1\" 302 0 139 \"-\" \"Mozilla/5.0 (compatible; Yahoo! Slurp; http://help.yahoo.com/help/us/ysearch/slurp)\" \"10.10.66.198:22939\" \"10.10.148.100:61108\" x_forwarded_for:\"68.180.230.153, 54.145.66.20\" x_forwarded_proto:\"http\" vcap_request_id:\"35244aa9-8cf3-405f-502e-0b74a052b43b\" response_time:0.010386265 app_id:\"4ee25a7d-9b17-49e0-9a82-8a1494337597\" app_index:\"4\" x_b3_traceid:\"e5b06239f0e6dde7\" x_b3_spanid:\"e5b06239f0e6dde7\" x_b3_parentspanid:\"-\"\n",
    "\"\"\"\n",
    "\n",
    "fs4 = \"\"\"\\\n",
    "<6>2017-04-23T10:17:40.962755+00:00 10.10.17.2 vcap.gorouter [job=router_z1 index=0]  powerpuffgirls.cfapps.io:4443 - [2017-04-23T10:17:40.933+0000] \"GET /api/v3/users/websocket HTTP/1.1\" \"-\" 0 0 \"-\" \"Mozilla/5.0 (Windows NT 10.0; Win64; x64) AppleWebKit/537.36 (KHTML, like Gecko) Chrome/57.0.2987.133 Safari/537.36\" \"10.10.66.97:59790\" \"10.10.148.147:61048\" x_forwarded_for:\"10.10.66.97\" x_forwarded_proto:\"-\" vcap_request_id:\"356f5ff1-9ae3-4cc6-4b5d-b848dd7b61dd\" response_time:0.029583438 app_id:\"8532d3f3-18a7-4f67-9481-57431aed7748\" app_index:\"0\" x_b3_traceid:\"76939e8c901442b4\" x_b3_spanid:\"76939e8c901442b4\" x_b3_parentspanid:\"-\"\n",
    "\"\"\"\n",
    "\n",
    "sample = \"\"\"\\\n",
    "<6>2017-04-23T10:17:40.962755+00:00 10.10.17.2 vcap.gorouter [job=router_z1 index=0]  login.run.pivotal.io - [2017-04-21T09:15:43.089+0000] \"POST /oauth/token HTTP/1.1\" 200 29 1549 \"-\" \"Ruby\" \"10.10.66.114:56583\" \"10.10.81.30:8080\" x_forwarded_for:\"54.210.10.202\" x_forwarded_proto:\"https\" vcap_request_id:\"dc80201f-29c8-44cb-6c8e-ddc2c4f7bcd6\" response_time:0.018057238 app_id:\"-\" app_index:\"-\" x_b3_traceid:\"c2b37a87dbf533ae\" x_b3_spanid:\"c2b37a87dbf533ae\" x_b3_parentspanid:\"-\"\n",
    "\"\"\""
   ]
  },
  {
   "cell_type": "code",
   "execution_count": 17,
   "metadata": {
    "collapsed": false
   },
   "outputs": [
    {
     "ename": "AttributeError",
     "evalue": "'NoneType' object has no attribute 'groups'",
     "output_type": "error",
     "traceback": [
      "\u001b[0;31m---------------------------------------------------------------------------\u001b[0m",
      "\u001b[0;31mAttributeError\u001b[0m                            Traceback (most recent call last)",
      "\u001b[0;32m<ipython-input-17-0fc849571e4b>\u001b[0m in \u001b[0;36m<module>\u001b[0;34m()\u001b[0m\n\u001b[0;32m----> 1\u001b[0;31m \u001b[0mre\u001b[0m\u001b[0;34m.\u001b[0m\u001b[0mmatch\u001b[0m\u001b[0;34m(\u001b[0m\u001b[0mpat\u001b[0m\u001b[0;34m,\u001b[0m \u001b[0mfs4\u001b[0m\u001b[0;34m)\u001b[0m\u001b[0;34m.\u001b[0m\u001b[0mgroups\u001b[0m\u001b[0;34m(\u001b[0m\u001b[0;34m)\u001b[0m\u001b[0;34m\u001b[0m\u001b[0m\n\u001b[0m",
      "\u001b[0;31mAttributeError\u001b[0m: 'NoneType' object has no attribute 'groups'"
     ]
    }
   ],
   "source": [
    "re.match(pat, fs4).groups()"
   ]
  },
  {
   "cell_type": "code",
   "execution_count": 3,
   "metadata": {
    "collapsed": false
   },
   "outputs": [],
   "source": [
    "(level, time, srcip, srcprog, progdetail,\\\n",
    "reqhost, reqstart, reqmethodAndurl, reqproto, statuscode,\\\n",
    "bytesrecv, bytessent, referer, uagent, remaddr, xfwdfr, xfwdp, \n",
    "vcapreq, resptime, appid, extra) =\\\n",
    "re.match(lgPattern + \"  \" + goRouterBasePattern + \" \" + goRouterKvPattern, \n",
    "         fullsample).groups()"
   ]
  },
  {
   "cell_type": "code",
   "execution_count": 14,
   "metadata": {
    "collapsed": false
   },
   "outputs": [],
   "source": [
    "m = re.compile(pat)"
   ]
  },
  {
   "cell_type": "code",
   "execution_count": 18,
   "metadata": {
    "collapsed": false
   },
   "outputs": [
    {
     "ename": "AttributeError",
     "evalue": "'NoneType' object has no attribute 'groups'",
     "output_type": "error",
     "traceback": [
      "\u001b[0;31m---------------------------------------------------------------------------\u001b[0m",
      "\u001b[0;31mAttributeError\u001b[0m                            Traceback (most recent call last)",
      "\u001b[0;32m<ipython-input-18-f87771f9df98>\u001b[0m in \u001b[0;36m<module>\u001b[0;34m()\u001b[0m\n\u001b[1;32m      6\u001b[0m \"\"\"\n\u001b[1;32m      7\u001b[0m \u001b[0;34m\u001b[0m\u001b[0m\n\u001b[0;32m----> 8\u001b[0;31m \u001b[0mm\u001b[0m\u001b[0;34m.\u001b[0m\u001b[0mmatch\u001b[0m\u001b[0;34m(\u001b[0m\u001b[0mfs2\u001b[0m\u001b[0;34m)\u001b[0m\u001b[0;34m.\u001b[0m\u001b[0mgroups\u001b[0m\u001b[0;34m(\u001b[0m\u001b[0;34m)\u001b[0m\u001b[0;34m\u001b[0m\u001b[0m\n\u001b[0m",
      "\u001b[0;31mAttributeError\u001b[0m: 'NoneType' object has no attribute 'groups'"
     ]
    }
   ],
   "source": [
    "fs2 = \"\"\"\n",
    "<6>2017-04-26T00:03:18.295812+00:00 10.10.81.9 vcap.gorouter [job=router_z2 index=3]  dogate-tracker-aws.cfapps.io - [2017-04-26T00:03:18.266+0000] \"POST /api/v1/series?api_key=80adce40484093449d60d6e76a5dae92 HTTP/1.1\" 200 292 0 \"-\" \"Ruby\" \"10.10.66.97:42773\" \"10.10.148.96:61013\" x_forwarded_for:\"52.89.159.192\" x_forwarded_proto:\"https\" vcap_request_id:\"bc4fb926-ee40-4aaa-7963-b7d8616d8b36\" response_time:0.029437206 app_id:\"6d13de12-6479-476e-b4a8-b7aa0d98127a\" app_index:\"0\" x_b3_traceid:\"80939612ff51224d\" x_b3_spanid:\"80939612ff51224d\" x_b3_parentspanid:\"-\"\n",
    "\"\"\"\n",
    "\n",
    "fs3 =\\\n",
    "\"\"\"\\\n",
    "<6>2017-05-02T10:39:13.984285+00:00 10.10.81.5 vcap.gorouter [job=router_z2 index=4]  portal.europeana.eu - [2017-05-02T10:39:13.973+0000] \"GET /portal/record/2020704/DR_20284776.html HTTP/1.1\" 302 0 139 \"-\" \"Mozilla/5.0 (compatible; Yahoo! Slurp; http://help.yahoo.com/help/us/ysearch/slurp)\" \"10.10.66.198:22939\" \"10.10.148.100:61108\" x_forwarded_for:\"68.180.230.153, 54.145.66.20\" x_forwarded_proto:\"http\" vcap_request_id:\"35244aa9-8cf3-405f-502e-0b74a052b43b\" response_time:0.010386265 app_id:\"4ee25a7d-9b17-49e0-9a82-8a1494337597\" app_index:\"4\" x_b3_traceid:\"e5b06239f0e6dde7\" x_b3_spanid:\"e5b06239f0e6dde7\" x_b3_parentspanid:\"-\"\n",
    "\"\"\"\n",
    "\n",
    "m.match(fs2).groups()"
   ]
  },
  {
   "cell_type": "code",
   "execution_count": 120,
   "metadata": {
    "collapsed": false
   },
   "outputs": [
    {
     "name": "stdout",
     "output_type": "stream",
     "text": [
      "100000 loops, best of 3: 2.41 µs per loop\n"
     ]
    }
   ],
   "source": [
    "%%timeit n=100\n",
    "m.match(ful);"
   ]
  },
  {
   "cell_type": "markdown",
   "metadata": {},
   "source": [
    "```\n",
    "create table router (\n",
    "level smallint,\n",
    "time timestamp,\n",
    "srcip inet,\n",
    "srcprog text,\n",
    "progdetail text,\n",
    "reqhost text,\n",
    "reqstart timestamp,\n",
    "reqmethodAndurl text,\n",
    "reqproto text,\n",
    "statuscode int,\n",
    "bytesrecv bigint,\n",
    "bytessent text,\n",
    "referer text,\n",
    "uagent text,\n",
    "remaddr text,\n",
    "xfwdfr text,\n",
    "xfwdp text,\n",
    "vcapreq text,\n",
    "resptime float,\n",
    "appid text,\n",
    "extra text\n",
    ") with (appendonly=true, compresstype=zlib, compresslevel=5, orientation=column)\n",
    "distributed randomly;\n",
    "```\n",
    "\n",
    "```\n",
    "30177 in 22min - 1 thread\n",
    "30k in 3.5 min - 1 thread\n",
    "30k in 3.3 min - 1 thread (only 24 edge cases - payload overrun) - 15MB raw (3MB loaded)\n",
    "150k in 9.3 min - 1 thread  (only 89 edge cases)\n",
    "```\n",
    "\n",
    "```\n",
    "cat /Users/kdunn/Desktop/rparsed.csv | psql -h 172.16.139.132 -U gpadmin -c \"COPY router from stdin CSV \"\n",
    "```\n",
    "\n",
    "```\n",
    "<6>2017-05-02T10:49:41.247897+00:00 10.10.17.5 vcap.gorouter [job=router_z1 index=4]  cloudmetricsservice.cfapps.io - [2017-05-02T10:49:41.241+0000] \"GET /api/list/metrics/customer/312/account/274/resource/8a8afb40-0de6-466d-bcd1-63e48a4874e6-ccirsglivitsnl-ccistossdvmc001/metric/274/period/26/min HTTP/1.1\" 200 0 2 \"-\" \"Apache-HttpClient/4.3.6 (java 1.5)\" \"10.10.66.97\n",
    "\n",
    "<6>2017-05-02T10:42:47.109925+00:00 10.10.81.6 vcap.gorouter [job=router_z2 index=2]  www.europeana.eu - [2017-05-02T10:42:47.077+0000] \"GET /portal/record/09431/view_show_photos_pl_id_99958_SC_id_RC_1_SRV_true_LANG_bg_SA_99958.html HTTP/1.1\" 302 0 179 \"-\"\n",
    "```"
   ]
  },
  {
   "cell_type": "code",
   "execution_count": null,
   "metadata": {
    "collapsed": true
   },
   "outputs": [],
   "source": []
  }
 ],
 "metadata": {
  "kernelspec": {
   "display_name": "Python [Root]",
   "language": "python",
   "name": "Python [Root]"
  },
  "language_info": {
   "codemirror_mode": {
    "name": "ipython",
    "version": 3
   },
   "file_extension": ".py",
   "mimetype": "text/x-python",
   "name": "python",
   "nbconvert_exporter": "python",
   "pygments_lexer": "ipython3",
   "version": "3.6.0"
  }
 },
 "nbformat": 4,
 "nbformat_minor": 2
}
