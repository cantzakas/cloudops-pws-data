{
 "cells": [
  {
   "cell_type": "markdown",
   "metadata": {},
   "source": [
    "<15>2017-05-10T01:02:57.531921+00:00 10.10.80.255 vcap.cloud_controller_ng [job=donotuseapi_z2 index=1]  \n",
    "            {\"timestamp\":1494378177.531851,\n",
    "             \"message\":\"(0.000909s) SELECT * FROM `packages` WHERE (`packages`.`guid` = '735032cc-6759-4ce1-bba5-d83d15e5c773') LIMIT 1\",\n",
    "             \"log_level\":\"debug2\",\"source\":\"cc.db\",\n",
    "             \"data\":{\"request_guid\":\"e46de389-1872-4936-68f4-2f29b12e2b58::d451762a-28d0-4352-988b-75410150122b\"},\n",
    "             \"thread_id\":47250478402800,\"fiber_id\":47250478293660,\n",
    "             \"process_id\":14156,\"file\":\"/var/vcap/packages/cloud_controller_ng/cloud_controller_ng/vendor/bundle/ruby/2.3.0/gems/sequel-4.41.0/lib/sequel/database/logging.rb\",\n",
    "             \"lineno\":87,\"method\":\"block in log_each\"}\n",
    "            \n",
    "            \n",
    "            \n",
    "            "
   ]
  },
  {
   "cell_type": "code",
   "execution_count": 4,
   "metadata": {
    "collapsed": true
   },
   "outputs": [],
   "source": [
    "import re\n",
    "\n",
    "cap1 = \"\"\"\\\n",
    "<15>2017-04-22T05:07:11.078699+00:00 10.10.16.255 vcap.cloud_controller_ng [job=donotuseapi_z1 index=1]  {\"timestamp\":1492837631.0786037,\"message\":\"Statsd: cc.requests.outstanding:1|c\",\"log_level\":\"debug\",\"source\":\"statsd.client\",\"data\":{},\"thread_id\":47124663557320,\"fiber_id\":47124647657340,\"process_id\":17173,\"file\":\"/var/vcap/packages/cloud_controller_ng/cloud_controller_ng/vendor/bundle/ruby/2.3.0/gems/statsd-ruby-1.2.1/lib/statsd.rb\",\"lineno\":254,\"method\":\"send_to_socket\"}\"\"\"\n",
    "\n",
    "lgBasePattern = '\\<(\\d+)\\>([^ ]+) ([^ ]+) ([^ ]+) \\[([^\\]]+)+\\]' \n",
    "lgExtended = '{\"timestamp\":\"?([\\d.]+)\"?\\,\"message\":\"([^\"]+)\"\\,\"log_level\":\"?([^\"]+)\"?\\,\"source\":\"([^\"]+)\"\\,\"data\":(.*)\\,\"thread_id\":\"?([^\"]+)\"?\\,\"fiber_id\":\"?([^\"]+)\"?\\,\"process_id\":\"?([^\"]+)\"?\\,\"file\":\"?([^\"]+)\"?\\,\"lineno\":\"?([^\"]+)\"?\\,\"method\":\"?([^\"]+)\"?}'\n",
    "\n",
    "\n",
    "pat = lgBasePattern + \"  \" + lgExtended # + \" \" + goRouterKvPattern"
   ]
  },
  {
   "cell_type": "code",
   "execution_count": 5,
   "metadata": {
    "collapsed": false
   },
   "outputs": [
    {
     "data": {
      "text/plain": [
       "('15',\n",
       " '2017-04-22T05:07:11.078699+00:00',\n",
       " '10.10.16.255',\n",
       " 'vcap.cloud_controller_ng',\n",
       " 'job=donotuseapi_z1 index=1',\n",
       " '1492837631.0786037',\n",
       " 'Statsd: cc.requests.outstanding:1|c',\n",
       " 'debug',\n",
       " 'statsd.client',\n",
       " '{}',\n",
       " '47124663557320',\n",
       " '47124647657340',\n",
       " '17173',\n",
       " '/var/vcap/packages/cloud_controller_ng/cloud_controller_ng/vendor/bundle/ruby/2.3.0/gems/statsd-ruby-1.2.1/lib/statsd.rb',\n",
       " '254',\n",
       " 'send_to_socket')"
      ]
     },
     "execution_count": 5,
     "metadata": {},
     "output_type": "execute_result"
    }
   ],
   "source": [
    "m = re.compile(pat)\n",
    "m.match(cap1).groups()"
   ]
  },
  {
   "cell_type": "code",
   "execution_count": null,
   "metadata": {
    "collapsed": true
   },
   "outputs": [],
   "source": []
  }
 ],
 "metadata": {
  "kernelspec": {
   "display_name": "Python [Root]",
   "language": "python",
   "name": "Python [Root]"
  },
  "language_info": {
   "codemirror_mode": {
    "name": "ipython",
    "version": 3
   },
   "file_extension": ".py",
   "mimetype": "text/x-python",
   "name": "python",
   "nbconvert_exporter": "python",
   "pygments_lexer": "ipython3",
   "version": "3.6.0"
  }
 },
 "nbformat": 4,
 "nbformat_minor": 2
}
